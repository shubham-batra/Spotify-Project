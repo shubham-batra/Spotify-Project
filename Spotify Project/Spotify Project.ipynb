{
 "cells": [
  {
   "cell_type": "markdown",
   "metadata": {},
   "source": [
    "<font size = \"20\"> Spotify Music Analysis </font>\n",
    "\n",
    "In this project, we will attempt to analyze Spotify playlists to see how compatible two user's playlists are. We will also use content-based filtering to create a recommendation system. "
   ]
  },
  {
   "cell_type": "code",
   "execution_count": 1,
   "metadata": {},
   "outputs": [],
   "source": [
    "# All imports are listed here\n",
    "import requests\n",
    "import spotipy.util as util\n",
    "import spotipy\n",
    "import pandas as pd\n",
    "import matplotlib.pyplot as plt\n",
    "from spotipy.oauth2 import SpotifyClientCredentials\n",
    "from spotipy.oauth2 import SpotifyOAuth\n",
    "from json.decoder import JSONDecodeError"
   ]
  },
  {
   "cell_type": "markdown",
   "metadata": {},
   "source": [
    "The first step in the process is to authenticate with the Spotify API and then import both of our playlists. The songs of both playlists are printed below"
   ]
  },
  {
   "cell_type": "code",
   "execution_count": 2,
   "metadata": {},
   "outputs": [],
   "source": [
    "# Authentication with Spotify API\n",
    "sp = spotipy.Spotify()\n",
    "cid =\"9eab3f44cb5f42bd9d144ff2e2ad767f\"\n",
    "secret = \"677567e07a1c4d9980adc0da6868b316\"\n",
    "client_credentials_manager = SpotifyClientCredentials(client_id=cid, client_secret=secret)\n",
    "sp = spotipy.Spotify(client_credentials_manager=client_credentials_manager)\n",
    "sp.trace=False # What is this?\n",
    "\n",
    "# This is Shubham's playlist\n",
    "playlist = sp.user_playlist(\"1232443238\", \"5XpKz5MtjD6Vxh8mN3fhK7\")\n",
    "songs = playlist[\"tracks\"][\"items\"]\n",
    "ids = []\n",
    "\n",
    "# This is Jorge's playlist\n",
    "playlist2 = sp.user_playlist('jorgevicencio87', '1lbwjOlw40jDMvgmpbUlxL')\n",
    "songs2 = playlist2[\"tracks\"][\"items\"]\n",
    "ids2 = []\n",
    "\n"
   ]
  },
  {
   "cell_type": "code",
   "execution_count": 3,
   "metadata": {},
   "outputs": [
    {
     "name": "stdout",
     "output_type": "stream",
     "text": [
      "Playlist Name: Epic Songs (Shubhams Playlist)\n",
      "Total Tracks: 45\n",
      "1 Jimi Hendrix - All Along the Watchtower\n",
      "2 The Rolling Stones - Gimme Shelter\n",
      "3 Ten Years After - I'd Love To Change The World\n",
      "4 Nena - 99 Luftballons\n",
      "5 Ray Charles - Hit the Road Jack\n",
      "6 The Mamas & The Papas - California Dreamin'\n",
      "7 The Cars - Just What I Needed\n",
      "8 Neil Young - Heart of Gold - 2009 Remaster\n",
      "9 Kyu Sakamoto - Sukiyaki\n",
      "10 Bob Dylan - Don't Think Twice, It's All Right\n",
      "11 The Beatles - While My Guitar Gently Weeps - Remastered 2009\n",
      "12 Massive Attack - Paradise Circus\n",
      "13 Fleetwood Mac - The Chain - 2004 Remaster\n",
      "14 Guns N' Roses - Sweet Child O' Mine\n",
      "15 Men At Work - Down Under\n",
      "16 New Order - Bizarre Love Triangle\n",
      "17 The Cranberries - Zombie\n",
      "18 Brigitte Bardot - Bonnie And Clyde\n",
      "19 Johnny Cash - Hurt\n",
      "20 Led Zeppelin - Stairway to Heaven - Remaster\n",
      "21 Mary Hopkin - Those Were The Days - Remastered\n",
      "22 Lynyrd Skynyrd - Free Bird\n",
      "23 Derek & The Dominos - Layla\n",
      "24 Mazzy Star - Fade Into You\n",
      "25 Gorillaz - Feel Good Inc.\n",
      "26 Tom Petty and the Heartbreakers - Refugee\n",
      "27 Canozan - Sen Kocaman Çöllerde\n",
      "28 Meg Mac - Grace Gold\n",
      "29 julia clara - still dancing\n",
      "30 Nusrat Fateh Ali Khan - Mere Rashke Qamar\n",
      "31 Don Cherry - Band of Gold (with Ray Conniff & His Orchestra & Chorus)\n",
      "32 Edward Maya - Harem\n",
      "33 Empire of the Sun - DNA\n",
      "34 Men I Trust - Tailwhip\n",
      "35 Madonna - Like a Prayer\n",
      "36 Kim Wilde - Kids In America\n",
      "37 Radiohead - Karma Police\n",
      "38 The Smashing Pumpkins - 1979 - Remastered 2012\n",
      "39 ROSALÍA - DI MI NOMBRE - Cap.8: Éxtasis\n",
      "40 KT Tunstall - Suddenly I See\n",
      "41 Purity Ring - peacefall\n",
      "42 The Beatles - Eleanor Rigby - Remastered 2009\n",
      "43 Regina Spektor - Après Moi\n",
      "44 The Monkees - (I'm Not Your) Steppin' Stone - 2006 Remaster\n",
      "45 The Fly Bi Nights - Found Love\n",
      "\n",
      "Playlist Name: playlist 3 (Jorges Playlist)\n",
      "Total Tracks: 47\n",
      "1 Bad Bunny - De Museo\n",
      "2 Nio Garcia - AM Remix\n",
      "3 Bad Bunny - Yonaguni\n",
      "4 Yandel - Explícale\n",
      "5 The Weeknd - Save Your Tears\n",
      "6 Mac Miller - Surf\n",
      "7 Bruno Mars - Leave The Door Open\n",
      "8 Pop Smoke - The Woo (feat. 50 Cent & Roddy Ricch)\n",
      "9 Mac Miller - Kool Aid & Frozen Pizza\n",
      "10 Bad Bunny - EL MUNDO ES MÍO\n",
      "11 Bad Bunny - Me Mata\n",
      "12 Pop Smoke - Hello (feat. A Boogie Wit da Hoodie)\n",
      "13 Anuel AA - Amanece\n",
      "14 Anuel AA - Hasta Que Dios Diga\n",
      "15 Simplified - Wake 'N Bake\n",
      "16 The Strokes - Hard To Explain\n",
      "17 Rick Ross - Aston Martin Music\n",
      "18 Drake - Shot For Me\n",
      "19 The Weeknd - Snowchild\n",
      "20 Mustard - Ballin' (with Roddy Ricch)\n",
      "21 Nio Garcia - La Jeepeta - Remix\n",
      "22 Rage Against The Machine - Bombtrack\n",
      "23 Farruko - La Cartera\n",
      "24 DaBaby - ROCKSTAR (feat. Roddy Ricch)\n",
      "25 Bad Bunny - Callaita\n",
      "26 Jhay Cortez - CÓMO SE SIENTE - Remix\n",
      "27 Lil Mosey - Blueberry Faygo\n",
      "28 J Balvin - Rojo\n",
      "29 Bad Bunny - Está Cabrón Ser Yo\n",
      "30 Bad Bunny - Una Vez\n",
      "31 Bad Bunny - Soliá\n",
      "32 Bad Bunny - Pero Ya No\n",
      "33 Calvin Harris - Slide (feat. Frank Ocean & Migos)\n",
      "34 Ozuna - Solita\n",
      "35 Papa Roach - ...To Be Loved\n",
      "36 The Weeknd - Heartless\n",
      "37 The Weeknd - Blinding Lights\n",
      "38 Paulo Londra - Tal Vez\n",
      "39 Anuel AA - Ella Quiere Beber - Remix\n",
      "40 Iration - Broken Promises\n",
      "41 Kendrick Lamar - The Recipe - Bonus Track\n",
      "42 Gorillaz - On Melancholy Hill\n",
      "43 Alina Baraz - Electric (R3hab Remix)\n",
      "44 Cash Cash - Broken Drum (feat. Fitz of Fitz and the Tantrums)\n",
      "45 Kungs - This Girl (Kungs Vs. Cookin' On 3 Burners)\n",
      "46 Mac Miller - Weekend (feat. Miguel)\n",
      "47 Anderson .Paak - JEWELZ\n"
     ]
    }
   ],
   "source": [
    "# Printing out playlist name and total tracks\n",
    "print('Playlist Name:', playlist['name'], '(Shubhams Playlist)')\n",
    "print('Total Tracks:', playlist['tracks']['total'])\n",
    "\n",
    "# Obtain tracks from Shubham's playlist\n",
    "results = sp.user_playlist(\"1232443238\", playlist['id'], fields=\"tracks,next\")\n",
    "tracks = results['tracks']\n",
    "\n",
    "# Print out all tracks from Shubham's playlist using a counter\n",
    "counter = 1\n",
    "for i in results['tracks']['items']:\n",
    "    print(counter, i['track']['artists'][0]['name'] + ' - ' + i['track']['name'])\n",
    "    counter = counter + 1\n",
    "print('')\n",
    "# Print out Jorge's playlist name and total tracks   \n",
    "print('Playlist Name:', playlist2['name'], '(Jorges Playlist)')\n",
    "print('Total Tracks:', playlist2['tracks']['total'])\n",
    "\n",
    "\n",
    "# Obtain tracks from Jorge's playlist\n",
    "results2 = sp.user_playlist(\"jorgevicencio87\", playlist2['id'], fields=\"tracks,next\")\n",
    "tracks = results2['tracks']\n",
    "\n",
    "# Print out all tracks from Jorge's playlist using a counter\n",
    "counter = 1\n",
    "for i in results2['tracks']['items']:\n",
    "    print(counter, i['track']['artists'][0]['name'] + ' - ' + i['track']['name'])\n",
    "    counter = counter + 1\n",
    "\n",
    "\n"
   ]
  },
  {
   "cell_type": "markdown",
   "metadata": {},
   "source": [
    "For the next step, we want to find out what the feature values are for each song in every playlist. Before the values are manipluated, for both playlists we will first normalize all of the numerical values and then find the average value for the entire playlist"
   ]
  },
  {
   "cell_type": "code",
   "execution_count": 4,
   "metadata": {},
   "outputs": [],
   "source": [
    "# Prints out all feature values in Shubham's Playlist\n",
    "for i in range(len(songs)):\n",
    "    ids.append(songs[i][\"track\"][\"id\"])\n",
    "features = sp.audio_features(ids)\n",
    "\n",
    "# Print out all feature Playlists in Jorge's Playlist\n",
    "for i in range(len(songs2)):\n",
    "    ids2.append(songs2[i][\"track\"][\"id\"])\n",
    "features2 = sp.audio_features(ids2)\n",
    "\n",
    "# Converting to dataframe and print\n",
    "df = pd.DataFrame(features)\n",
    "df2 = pd.DataFrame(features2)"
   ]
  },
  {
   "cell_type": "code",
   "execution_count": 5,
   "metadata": {},
   "outputs": [
    {
     "data": {
      "text/plain": [
       "[[0.6447161097527845, 'danceability'],\n",
       " [0.6563350785340313, 'energy'],\n",
       " [0.5010101010101009, 'key'],\n",
       " [-0.4888329593860761, 'loudness'],\n",
       " [0.5111111111111111, 'mode'],\n",
       " [0.22649291266575225, 'speechiness'],\n",
       " [0.3173055555555556, 'acousticness'],\n",
       " [0.1275048436068577, 'instrumentalness'],\n",
       " [0.2705600870038064, 'liveness'],\n",
       " [0.5325726141078838, 'valence'],\n",
       " [0.6840859832564179, 'tempo'],\n",
       " [0.4553031775421547, 'duration_ms'],\n",
       " [0.9833333333333333, 'time_signature']]"
      ]
     },
     "execution_count": 5,
     "metadata": {},
     "output_type": "execute_result"
    }
   ],
   "source": [
    "# Normalizing step for the 13 numeric columns? (Shubham's playlist)\n",
    "norm = df.copy()\n",
    "music1mean = []\n",
    "for col in df:\n",
    "    if (df[col].dtype != 'object'):\n",
    "        norm[col] = norm[col] /norm[col].abs().max()\n",
    "        music1mean.append([norm[col].mean(),col])\n",
    "        \n",
    "\n",
    "# Normalizing step for Jorge's Playlist \n",
    "norm = df2.copy()\n",
    "music2mean = []\n",
    "for col in df2:\n",
    "    if (df[col].dtype != 'object'):\n",
    "        norm[col] = norm[col] /norm[col].abs().max()\n",
    "        music2mean.append([norm[col].mean(),col])\n",
    "music1mean"
   ]
  },
  {
   "cell_type": "code",
   "execution_count": 6,
   "metadata": {},
   "outputs": [
    {
     "data": {
      "text/plain": [
       "[[0.7738098036910781, 'danceability'],\n",
       " [0.6816995170343297, 'energy'],\n",
       " [0.5125725338491296, 'key'],\n",
       " [-0.46842381233085045, 'loudness'],\n",
       " [0.5957446808510638, 'mode'],\n",
       " [0.35939544171314464, 'speechiness'],\n",
       " [0.24403124047632482, 'acousticness'],\n",
       " [0.035702226884533755, 'instrumentalness'],\n",
       " [0.2197935226915418, 'liveness'],\n",
       " [0.568341191393629, 'valence'],\n",
       " [0.7109782958647016, 'tempo'],\n",
       " [0.5485724129851628, 'duration_ms'],\n",
       " [1.0, 'time_signature']]"
      ]
     },
     "execution_count": 6,
     "metadata": {},
     "output_type": "execute_result"
    }
   ],
   "source": [
    "music2mean"
   ]
  },
  {
   "cell_type": "markdown",
   "metadata": {},
   "source": [
    "Here, we will find the difference between each of the feature values and then graph it"
   ]
  },
  {
   "cell_type": "code",
   "execution_count": 7,
   "metadata": {},
   "outputs": [
    {
     "data": {
      "text/plain": [
       "Text(0.5, 0, 'Feature')"
      ]
     },
     "execution_count": 7,
     "metadata": {},
     "output_type": "execute_result"
    },
    {
     "data": {
      "image/png": "[encoded data removed]",
      "text/plain": [
       "<Figure size 432x288 with 1 Axes>"
      ]
     },
     "metadata": {
      "needs_background": "light"
     },
     "output_type": "display_data"
    }
   ],
   "source": [
    "# First, need to convert lists to dataframe\n",
    "columns = []\n",
    "pl_data1 = []\n",
    "pl_data2 = []\n",
    "for tup in music1mean:\n",
    "    pl_data1.append(tup[0])\n",
    "    columns.append(tup[1])\n",
    "for tup in music2mean:\n",
    "    pl_data2.append(tup[0])\n",
    "    \n",
    "    \n",
    "df = pd.DataFrame(pl_data1, columns=['Mean'])\n",
    "df2 = pd.DataFrame(pl_data2, columns=['Mean'])\n",
    "df3 = df2-df\n",
    "df3 = df3.abs()\n",
    "# Next, ned to graph\n",
    "chart = df3.plot.bar()\n",
    "chart.set_xticklabels(columns)\n",
    "chart.set_title('Jorge\\'s and Shubham\\'s Playlist Comparison')\n",
    "chart.set_ylabel('Average Feature Score')\n",
    "chart.set_xlabel('Feature')"
   ]
  },
  {
   "cell_type": "markdown",
   "metadata": {},
   "source": [
    "In the chart above the closer a value is to zero the more similar they are. As can be seen here our music taste from the sample playlist is quite differnt. However, if we examine the chart further we can see that we like music in a similar key, and we also like music with a similar length, liveness, and tempo. Every other column seems to have a big difference."
   ]
  },
  {
   "cell_type": "code",
   "execution_count": 8,
   "metadata": {},
   "outputs": [
    {
     "name": "stdout",
     "output_type": "stream",
     "text": [
      "Jorge has 30 different artists in his playlist of 47 songs.\n",
      "Whereas Shubham has 44 different artists in his playlist of 45 songs.\n"
     ]
    },
    {
     "data": {
      "image/png": "[encoded data removed]",
      "text/plain": [
       "<Figure size 432x288 with 1 Axes>"
      ]
     },
     "metadata": {},
     "output_type": "display_data"
    }
   ],
   "source": [
    "# TODO: Make artist graphic\n",
    "jorge_dict = {}\n",
    "for song in results2['tracks']['items']:\n",
    "    if song['track']['artists'][0]['name'] not in jorge_dict:\n",
    "        jorge_dict[song['track']['artists'][0]['name']] = 1\n",
    "    else: \n",
    "        jorge_dict[song['track']['artists'][0]['name']] += 1\n",
    "\n",
    "shub_dict = {}\n",
    "for song in results['tracks']['items']:\n",
    "    if song['track']['artists'][0]['name'] not in shub_dict:\n",
    "        shub_dict[song['track']['artists'][0]['name']] = 1\n",
    "    else: \n",
    "        shub_dict[song['track']['artists'][0]['name']] += 1\n",
    "        \n",
    "print('Jorge has', len(jorge_dict), 'different artists in his playlist of', playlist2['tracks']['total'], 'songs.')\n",
    "print('Whereas Shubham has', len(shub_dict), 'different artists in his playlist of', playlist['tracks']['total'], 'songs.')\n",
    "labels = 'Jorge', 'Shubham'\n",
    "sizes = [len(jorge_dict), len(shub_dict)]\n",
    "fig1, ax1 = plt.subplots()\n",
    "ax1.pie(sizes, autopct='%1.1f%%',\n",
    "        shadow=True, startangle=90)\n",
    "ax1.axis('equal')\n",
    "plt.legend(labels = labels) \n",
    "\n",
    "plt.show()"
   ]
  },
  {
   "cell_type": "markdown",
   "metadata": {},
   "source": [
    "As can be seen in the pie chart above Shubham has more variety in artists in his playlist. He has a single repeated artist where as Jorge has multiple songs by the same artist. They both have a variety, but Shubhams variety is greater than Jorges."
   ]
  },
  {
   "cell_type": "markdown",
   "metadata": {},
   "source": [
    "Using the information we have gathered we will now develop a list of reccomendations for each playlist. Each set of recommendations will be unique to a playlist and will group five songs and artists together until there are none left in order to generate the best recommendations for that particular playlist. "
   ]
  },
  {
   "cell_type": "code",
   "execution_count": 9,
   "metadata": {},
   "outputs": [
    {
     "name": "stdout",
     "output_type": "stream",
     "text": [
      "Recommendations for Jorge: \n",
      "Ram Pam Pam - Natti Natasha\n",
      "<3 - Bad Bunny\n",
      "Reminder - The Weeknd\n",
      "Sin Panty - Nio Garcia\n",
      "Celda - Yandel\n",
      "Ivy - Frank Ocean\n",
      "Attention - Charlie Puth\n",
      "To Die For - Sam Smith\n",
      "The Box - Roddy Ricch\n",
      "His & Hers (feat. Don Toliver, Lil Uzi Vert & Gunna) - Internet Money\n",
      "Martians Vs Goblins - The Game\n",
      "Diamonds & Pearls - Dirty Heads\n",
      "Chances - The Strokes\n",
      "Na' Nuevo - Anuel AA\n",
      "Una Noche - Rauw Alejandro\n",
      "Going Bad (feat. Drake) - Meek Mill\n",
      "Delincuente - Farruko\n",
      "Wiggle It (feat. City Girls) - French Montana\n",
      "Alive - Chris Lord-Alge Mix - P.O.D.\n",
      "Take The Power Back - Rage Against The Machine\n",
      "Me Enamora - Lenny Tavárez\n",
      "Callaita - Bad Bunny\n",
      "Los Bo - Jhay Cortez\n",
      "Ay, DiOs Mío! - KAROL G\n",
      "No Se Me Quita (feat. Ricky Martin) - Maluma\n",
      "Apartamento - Danny Ocean\n",
      "Christian Dior - Jhay Cortez\n",
      "Drinking from the Bottle (feat. Tinie Tempah) - Calvin Harris\n",
      "+Linda - Dalex\n",
      "Aloha - Maluma\n",
      "La Nota - Manuel Turizo\n",
      "Condenado Para El Millón - Paulo Londra\n",
      "Hipócrita - Anuel AA\n",
      "Potato Salad - Tyler, The Creator\n",
      "Monster - Kanye West\n",
      "\n",
      "\n",
      "Recommendations for Shubham: \n",
      "No Particular Place To Go - Chuck Berry\n",
      "Too Rolling Stoned - 2007 Remaster - Robin Trower\n",
      "Guten Abend gut' Nacht - Nena\n",
      "Summertime - Big Brother & The Holding Company\n",
      "Wahnsinn - Wolfgang Petry\n",
      "Lay, Lady, Lay - Bob Dylan\n",
      "One Of These Things First - Nick Drake\n",
      "Dear Mr. Fantasy - Traffic\n",
      "I Hope That I Don't Fall In Love With You - Tom Waits\n",
      "踊り子 - Kozo Murashita\n",
      "Put Me Down - The Cranberries\n",
      "The Passenger - Siouxsie and the Banshees\n",
      "Running on Empty - Jackson Browne\n",
      "Things Can Only Get Better - Howard Jones\n",
      "Holy Diver - Dio\n",
      "We're An American Band - Remastered 2002 - Grand Funk Railroad\n",
      "Cheatin' Woman - Lynyrd Skynyrd\n",
      "That Lonesome Song - Jamey Johnson\n",
      "We'll Meet Again - Johnny Cash\n",
      "Isolation - Jeff Beck\n",
      "Yıldızlara Bak - Yaşlı Amca\n",
      "Lamb's Wool - Foster The People\n",
      "Overnight - Karó\n",
      "Two Trucks - Lemon Demon\n",
      "Far Away - Astronaut Husband\n",
      "Hollaback Girl - Gwen Stefani\n",
      "I feel for you - Original - Bob Sinclar\n",
      "Doing It for the Money - Foster The People\n",
      "Save me feat. Helene - Morandi\n",
      "You and I - Jakob\n",
      "LLAMAME - Nathy Peluso\n",
      "Yo x Ti, Tu x Mi - ROSALÍA\n",
      "My Body Is a Cage - Arcade Fire\n",
      "A Mí - Rels B\n",
      "CYBERPUNK 2.0.2.0. - HEALTH\n"
     ]
    }
   ],
   "source": [
    "artists = []\n",
    "print('Recommendations for Jorge: ')\n",
    "for song in results2['tracks']['items']:\n",
    "    if len(artists) < 5:\n",
    "        artists.append(song['track']['artists'][0]['id'])\n",
    "    else:\n",
    "        rec = sp.recommendations(artists, limit=5)\n",
    "        for title in rec['tracks']:\n",
    "            print(title['name'], '-', title['artists'][0]['name'])\n",
    "        artists.clear()\n",
    "        \n",
    "print('\\n')\n",
    "\n",
    "artists = []\n",
    "print('Recommendations for Shubham: ')\n",
    "for song in results['tracks']['items']:\n",
    "    if len(artists) < 5:\n",
    "        artists.append(song['track']['artists'][0]['id'])\n",
    "    else:\n",
    "        rec = sp.recommendations(artists, limit=5)\n",
    "        for title in rec['tracks']:\n",
    "            print(title['name'], '-', title['artists'][0]['name'])\n",
    "        artists.clear()"
   ]
  },
  {
   "cell_type": "code",
   "execution_count": 24,
   "metadata": {},
   "outputs": [
    {
     "name": "stdout",
     "output_type": "stream",
     "text": [
      "Average popularity for Shubham's playlist: 53.93\n",
      "Average popularity for Jorge's playlist: 62.83\n"
     ]
    }
   ],
   "source": [
    "popularity_shubham = []\n",
    "for song in results['tracks']['items']:\n",
    "    popularity_shubham.append(song['track']['popularity'])\n",
    "    \n",
    "popularity_jorge = []\n",
    "for song in results2['tracks']['items']:\n",
    "    popularity_jorge.append(song['track']['popularity'])\n",
    "    \n",
    "print('Average popularity for Shubham\\'s playlist:', round(sum(popularity_shubham)/len(popularity_shubham), 2))\n",
    "print('Average popularity for Jorge\\'s playlist:', round(sum(popularity_jorge)/len(popularity_jorge), 2))"
   ]
  },
  {
   "cell_type": "code",
   "execution_count": 25,
   "metadata": {},
   "outputs": [],
   "source": [
    "names = ['Jorge', 'Shubham']\n",
    "scores = [round(sum(popularity_jorge)/len(popularity_jorge), 2), round(sum(popularity_shubham)/len(popularity_shubham), 2)]"
   ]
  },
  {
   "cell_type": "code",
   "execution_count": 35,
   "metadata": {},
   "outputs": [
    {
     "data": {
      "image/png": "[encoded data removed]",
      "text/plain": [
       "<Figure size 432x288 with 1 Axes>"
      ]
     },
     "metadata": {
      "needs_background": "light"
     },
     "output_type": "display_data"
    }
   ],
   "source": [
    "fig = plt.figure()\n",
    "ax = fig.add_axes([0,0,1,1])\n",
    "ax.bar(names,scores)\n",
    "ax.set_ylabel('Popularity Score')\n",
    "ax.set_title('Jorge V.S. Shubham: Song Popularity')\n",
    "plt.show()"
   ]
  },
  {
   "cell_type": "markdown",
   "metadata": {},
   "source": [
    "#TODO: NEED TO ADD DESCRIPTION"
   ]
  },
  {
   "cell_type": "code",
   "execution_count": null,
   "metadata": {},
   "outputs": [],
   "source": []
  }
 ],
 "metadata": {
  "kernelspec": {
   "display_name": "Python 3",
   "language": "python",
   "name": "python3"
  },
  "language_info": {
   "codemirror_mode": {
    "name": "ipython",
    "version": 3
   },
   "file_extension": ".py",
   "mimetype": "text/x-python",
   "name": "python",
   "nbconvert_exporter": "python",
   "pygments_lexer": "ipython3",
   "version": "3.8.5"
  }
 },
 "nbformat": 4,
 "nbformat_minor": 5
}
