{
 "cells": [
  {
   "cell_type": "markdown",
   "id": "03aaaa16",
   "metadata": {},
   "source": [
    "<font size = \"20\"> Spotify Music Analysis </font>\n",
    "\n",
    "In this project, we will attempt to analyze Spotify playlists to see how compatible two user's playlists are. We will also use content-based filtering to create a recommendation system. "
   ]
  },
  {
   "cell_type": "code",
   "execution_count": 1,
   "id": "c00a0c04",
   "metadata": {},
   "outputs": [],
   "source": [
    "# All imports are listed here\n",
    "import requests\n",
    "import spotipy.util as util\n",
    "import spotipy\n",
    "import pandas as pd\n",
    "import numpy as np\n",
    "import matplotlib.pyplot as plt\n",
    "from spotipy.oauth2 import SpotifyClientCredentials\n",
    "from spotipy.oauth2 import SpotifyOAuth\n",
    "from json.decoder import JSONDecodeError"
   ]
  },
  {
   "cell_type": "markdown",
   "id": "f8490c6b",
   "metadata": {},
   "source": [
    "The first step in the process is to authenticate with the Spotify API and then import both of our playlists. The songs of both playlists are printed below"
   ]
  },
  {
   "cell_type": "code",
   "execution_count": 2,
   "id": "b6d2760b",
   "metadata": {},
   "outputs": [],
   "source": [
    "# Authentication with Spotify API\n",
    "sp = spotipy.Spotify()\n",
    "cid =\"9eab3f44cb5f42bd9d144ff2e2ad767f\"\n",
    "secret = \"677567e07a1c4d9980adc0da6868b316\"\n",
    "client_credentials_manager = SpotifyClientCredentials(client_id=cid, client_secret=secret)\n",
    "sp = spotipy.Spotify(client_credentials_manager=client_credentials_manager)\n",
    "sp.trace=False # What is this?\n",
    "\n",
    "# This is Shubham's playlist\n",
    "playlist = sp.user_playlist(\"1232443238\", \"5XpKz5MtjD6Vxh8mN3fhK7\")\n",
    "songs = playlist[\"tracks\"][\"items\"]\n",
    "ids = []\n",
    "\n",
    "# This is Jorge's playlist\n",
    "playlist2 = sp.user_playlist('jorgevicencio87', '1lbwjOlw40jDMvgmpbUlxL')\n",
    "songs2 = playlist2[\"tracks\"][\"items\"]\n",
    "ids2 = []\n",
    "\n"
   ]
  },
  {
   "cell_type": "code",
   "execution_count": 3,
   "id": "eaab80de",
   "metadata": {},
   "outputs": [
    {
     "name": "stdout",
     "output_type": "stream",
     "text": [
      "Playlist Name: Epic Songs (Shubhams Playlist)\n",
      "Total Tracks: 45\n",
      "1 Jimi Hendrix - All Along the Watchtower\n",
      "2 The Rolling Stones - Gimme Shelter\n",
      "3 Ten Years After - I'd Love To Change The World\n",
      "4 Nena - 99 Luftballons\n",
      "5 Ray Charles - Hit the Road Jack\n",
      "6 The Mamas & The Papas - California Dreamin'\n",
      "7 The Cars - Just What I Needed\n",
      "8 Neil Young - Heart of Gold - 2009 Remaster\n",
      "9 Kyu Sakamoto - Sukiyaki\n",
      "10 Bob Dylan - Don't Think Twice, It's All Right\n",
      "11 The Beatles - While My Guitar Gently Weeps - Remastered 2009\n",
      "12 Massive Attack - Paradise Circus\n",
      "13 Fleetwood Mac - The Chain - 2004 Remaster\n",
      "14 Guns N' Roses - Sweet Child O' Mine\n",
      "15 Men At Work - Down Under\n",
      "16 New Order - Bizarre Love Triangle\n",
      "17 The Cranberries - Zombie\n",
      "18 Brigitte Bardot - Bonnie And Clyde\n",
      "19 Johnny Cash - Hurt\n",
      "20 Led Zeppelin - Stairway to Heaven - Remaster\n",
      "21 Mary Hopkin - Those Were The Days - Remastered\n",
      "22 Lynyrd Skynyrd - Free Bird\n",
      "23 Derek & The Dominos - Layla\n",
      "24 Mazzy Star - Fade Into You\n",
      "25 Gorillaz - Feel Good Inc.\n",
      "26 Tom Petty and the Heartbreakers - Refugee\n",
      "27 Canozan - Sen Kocaman Çöllerde\n",
      "28 Meg Mac - Grace Gold\n",
      "29 julia clara - still dancing\n",
      "30 Nusrat Fateh Ali Khan - Mere Rashke Qamar\n",
      "31 Don Cherry - Band of Gold (with Ray Conniff & His Orchestra & Chorus)\n",
      "32 Edward Maya - Harem\n",
      "33 Empire of the Sun - DNA\n",
      "34 Men I Trust - Tailwhip\n",
      "35 Madonna - Like a Prayer\n",
      "36 Kim Wilde - Kids In America\n",
      "37 Radiohead - Karma Police\n",
      "38 The Smashing Pumpkins - 1979 - Remastered 2012\n",
      "39 ROSALÍA - DI MI NOMBRE - Cap.8: Éxtasis\n",
      "40 KT Tunstall - Suddenly I See\n",
      "41 Purity Ring - peacefall\n",
      "42 The Beatles - Eleanor Rigby - Remastered 2009\n",
      "43 Regina Spektor - Après Moi\n",
      "44 The Monkees - (I'm Not Your) Steppin' Stone - 2006 Remaster\n",
      "45 The Fly Bi Nights - Found Love\n",
      "\n",
      "Playlist Name: playlist 3 (Jorges Playlist)\n",
      "Total Tracks: 48\n",
      "1 Bad Bunny - De Museo\n",
      "2 Nio Garcia - AM Remix\n",
      "3 Bad Bunny - Yonaguni\n",
      "4 Yandel - Explícale\n",
      "5 The Weeknd - Save Your Tears\n",
      "6 Mac Miller - Surf\n",
      "7 Bruno Mars - Leave The Door Open\n",
      "8 Pop Smoke - The Woo (feat. 50 Cent & Roddy Ricch)\n",
      "9 Mac Miller - Kool Aid & Frozen Pizza\n",
      "10 Bad Bunny - EL MUNDO ES MÍO\n",
      "11 Bad Bunny - Me Mata\n",
      "12 Pop Smoke - Hello (feat. A Boogie Wit da Hoodie)\n",
      "13 Anuel AA - Amanece\n",
      "14 Anuel AA - Hasta Que Dios Diga\n",
      "15 Simplified - Wake 'N Bake\n",
      "16 The Strokes - Hard To Explain\n",
      "17 Rick Ross - Aston Martin Music\n",
      "18 Drake - Shot For Me\n",
      "19 The Weeknd - Snowchild\n",
      "20 Mustard - Ballin' (with Roddy Ricch)\n",
      "21 Nio Garcia - La Jeepeta - Remix\n",
      "22 Rage Against The Machine - Bombtrack\n",
      "23 Farruko - La Cartera\n",
      "24 DaBaby - ROCKSTAR (feat. Roddy Ricch)\n",
      "25 Bad Bunny - Callaita\n",
      "26 Jhay Cortez - CÓMO SE SIENTE - Remix\n",
      "27 Lil Mosey - Blueberry Faygo\n",
      "28 J Balvin - Rojo\n",
      "29 Bad Bunny - Está Cabrón Ser Yo\n",
      "30 Bad Bunny - Una Vez\n",
      "31 Bad Bunny - Soliá\n",
      "32 Bad Bunny - Pero Ya No\n",
      "33 Calvin Harris - Slide (feat. Frank Ocean & Migos)\n",
      "34 Ozuna - Solita\n",
      "35 Papa Roach - ...To Be Loved\n",
      "36 The Weeknd - Heartless\n",
      "37 The Weeknd - Blinding Lights\n",
      "38 Paulo Londra - Tal Vez\n",
      "39 Anuel AA - Ella Quiere Beber - Remix\n",
      "40 Iration - Broken Promises\n",
      "41 Kendrick Lamar - The Recipe - Bonus Track\n",
      "42 Gorillaz - On Melancholy Hill\n",
      "43 Alina Baraz - Electric (R3hab Remix)\n",
      "44 Cash Cash - Broken Drum (feat. Fitz of Fitz and the Tantrums)\n",
      "45 Kungs - This Girl (Kungs Vs. Cookin' On 3 Burners)\n",
      "46 Mac Miller - Weekend (feat. Miguel)\n",
      "47 Anderson .Paak - JEWELZ\n",
      "48 Bad Bunny - Ser Bichote\n"
     ]
    }
   ],
   "source": [
    "# Printing out playlist name and total tracks\n",
    "print('Playlist Name:', playlist['name'], '(Shubhams Playlist)')\n",
    "print('Total Tracks:', playlist['tracks']['total'])\n",
    "\n",
    "# Obtain tracks from Shubham's playlist\n",
    "results = sp.user_playlist(\"1232443238\", playlist['id'], fields=\"tracks,next\")\n",
    "tracks = results['tracks']\n",
    "\n",
    "# Print out all tracks from Shubham's playlist using a counter\n",
    "counter = 1\n",
    "for i in results['tracks']['items']:\n",
    "    print(counter, i['track']['artists'][0]['name'] + ' - ' + i['track']['name'])\n",
    "    counter = counter + 1\n",
    "print('')\n",
    "# Print out Jorge's playlist name and total tracks   \n",
    "print('Playlist Name:', playlist2['name'], '(Jorges Playlist)')\n",
    "print('Total Tracks:', playlist2['tracks']['total'])\n",
    "\n",
    "\n",
    "# Obtain tracks from Jorge's playlist\n",
    "results2 = sp.user_playlist(\"jorgevicencio87\", playlist2['id'], fields=\"tracks,next\")\n",
    "tracks = results2['tracks']\n",
    "\n",
    "# Print out all tracks from Jorge's playlist using a counter\n",
    "counter = 1\n",
    "for i in results2['tracks']['items']:\n",
    "    print(counter, i['track']['artists'][0]['name'] + ' - ' + i['track']['name'])\n",
    "    counter = counter + 1\n",
    "\n",
    "\n"
   ]
  },
  {
   "cell_type": "markdown",
   "id": "502afe78",
   "metadata": {},
   "source": [
    "For the next step, we want to find out what the feature values are for each song in every playlist. Before the values are manipluated, for both playlists we will first normalize all of the numerical values and then find the average value for the entire playlist"
   ]
  },
  {
   "cell_type": "code",
   "execution_count": 4,
   "id": "219476a9",
   "metadata": {},
   "outputs": [],
   "source": [
    "# Prints out all feature values in Shubham's Playlist\n",
    "for i in range(len(songs)):\n",
    "    ids.append(songs[i][\"track\"][\"id\"])\n",
    "features = sp.audio_features(ids)\n",
    "\n",
    "# Print out all feature Playlists in Jorge's Playlist\n",
    "for i in range(len(songs2)):\n",
    "    ids2.append(songs2[i][\"track\"][\"id\"])\n",
    "features2 = sp.audio_features(ids2)\n",
    "\n",
    "# Converting to dataframe and print\n",
    "df = pd.DataFrame(features)\n",
    "df2 = pd.DataFrame(features2)"
   ]
  },
  {
   "cell_type": "code",
   "execution_count": 5,
   "id": "42e877c2",
   "metadata": {},
   "outputs": [
    {
     "data": {
      "text/plain": [
       "[[0.6447161097527847, 'danceability'],\n",
       " [0.6563350785340314, 'energy'],\n",
       " [0.5010101010101009, 'key'],\n",
       " [-0.4888329593860761, 'loudness'],\n",
       " [0.5111111111111111, 'mode'],\n",
       " [0.2264929126657522, 'speechiness'],\n",
       " [0.3173055555555555, 'acousticness'],\n",
       " [0.12750484360685774, 'instrumentalness'],\n",
       " [0.27056008700380646, 'liveness'],\n",
       " [0.5325726141078838, 'valence'],\n",
       " [0.6840859832564178, 'tempo'],\n",
       " [0.4553031775421546, 'duration_ms'],\n",
       " [0.9833333333333333, 'time_signature']]"
      ]
     },
     "execution_count": 5,
     "metadata": {},
     "output_type": "execute_result"
    }
   ],
   "source": [
    "# Normalizing step for the 13 numeric columns? (Shubham's playlist)\n",
    "norm = df.copy()\n",
    "music1mean = []\n",
    "for col in df:\n",
    "    if (df[col].dtype != 'object'):\n",
    "        norm[col] = norm[col] /norm[col].abs().max()\n",
    "        music1mean.append([norm[col].mean(),col])\n",
    "        \n",
    "\n",
    "# Normalizing step for Jorge's Playlist \n",
    "norm = df2.copy()\n",
    "music2mean = []\n",
    "for col in df2:\n",
    "    if (df[col].dtype != 'object'):\n",
    "        norm[col] = norm[col] /norm[col].abs().max()\n",
    "        music2mean.append([norm[col].mean(),col])\n",
    "music1mean"
   ]
  },
  {
   "cell_type": "code",
   "execution_count": 6,
   "id": "0b4c2374",
   "metadata": {},
   "outputs": [
    {
     "data": {
      "text/plain": [
       "[[0.7757596685082873, 'danceability'],\n",
       " [0.6808324812542604, 'energy'],\n",
       " [0.5094696969696969, 'key'],\n",
       " [-0.47146856982499097, 'loudness'],\n",
       " [0.5833333333333334, 'mode'],\n",
       " [0.3564590075512406, 'speechiness'],\n",
       " [0.24331286195844384, 'acousticness'],\n",
       " [0.03495854166666667, 'instrumentalness'],\n",
       " [0.21985837438423642, 'liveness'],\n",
       " [0.5607892763404574, 'valence'],\n",
       " [0.7141046960931957, 'tempo'],\n",
       " [0.5468988307579958, 'duration_ms'],\n",
       " [1.0, 'time_signature']]"
      ]
     },
     "execution_count": 6,
     "metadata": {},
     "output_type": "execute_result"
    }
   ],
   "source": [
    "music2mean"
   ]
  },
  {
   "cell_type": "markdown",
   "id": "5d5534b0",
   "metadata": {},
   "source": [
    "Here, we will find the difference between each of the feature values and then graph it"
   ]
  },
  {
   "cell_type": "code",
   "execution_count": 7,
   "id": "52b63e14",
   "metadata": {},
   "outputs": [
    {
     "data": {
      "text/plain": [
       "Text(0.5, 0, 'Feature')"
      ]
     },
     "execution_count": 7,
     "metadata": {},
     "output_type": "execute_result"
    },
    {
     "data": {
      "image/png": "[encoded data removed]",
      "text/plain": [
       "<Figure size 432x288 with 1 Axes>"
      ]
     },
     "metadata": {
      "needs_background": "light"
     },
     "output_type": "display_data"
    }
   ],
   "source": [
    "# First, need to convert lists to dataframe\n",
    "columns = []\n",
    "pl_data1 = []\n",
    "pl_data2 = []\n",
    "for tup in music1mean:\n",
    "    pl_data1.append(tup[0])\n",
    "    columns.append(tup[1])\n",
    "for tup in music2mean:\n",
    "    pl_data2.append(tup[0])\n",
    "    \n",
    "    \n",
    "df3 = pd.DataFrame(pl_data1, columns=['Mean'])\n",
    "df4 = pd.DataFrame(pl_data2, columns=['Mean'])\n",
    "df5 = df4-df3\n",
    "df5 = df5.abs()\n",
    "# Next, ned to graph\n",
    "chart = df5.plot.bar()\n",
    "chart.set_xticklabels(columns)\n",
    "chart.set_title('Jorge\\'s and Shubham\\'s Playlist Comparison')\n",
    "chart.set_ylabel('Average Feature Score')\n",
    "chart.set_xlabel('Feature')"
   ]
  },
  {
   "cell_type": "markdown",
   "id": "a7f31f43",
   "metadata": {},
   "source": [
    "In the chart above the closer a value is to zero the more similar they are. As can be seen here our music taste from the sample playlist is quite differnt. However, if we examine the chart further we can see that we like music in a similar key, and we also like music with a similar length, liveness, and tempo. Every other column seems to have a big difference."
   ]
  },
  {
   "cell_type": "code",
   "execution_count": 8,
   "id": "ffe9dbc8",
   "metadata": {},
   "outputs": [
    {
     "name": "stdout",
     "output_type": "stream",
     "text": [
      "Jorge has 30 different artists in his playlist of 48 songs.\n",
      "Whereas Shubham has 44 different artists in his playlist of 45 songs.\n"
     ]
    },
    {
     "data": {
      "image/png": "[encoded data removed]",
      "text/plain": [
       "<Figure size 432x288 with 1 Axes>"
      ]
     },
     "metadata": {},
     "output_type": "display_data"
    }
   ],
   "source": [
    "# TODO: Make artist graphic\n",
    "jorge_dict = {}\n",
    "for song in results2['tracks']['items']:\n",
    "    if song['track']['artists'][0]['name'] not in jorge_dict:\n",
    "        jorge_dict[song['track']['artists'][0]['name']] = 1\n",
    "    else: \n",
    "        jorge_dict[song['track']['artists'][0]['name']] += 1\n",
    "\n",
    "shub_dict = {}\n",
    "for song in results['tracks']['items']:\n",
    "    if song['track']['artists'][0]['name'] not in shub_dict:\n",
    "        shub_dict[song['track']['artists'][0]['name']] = 1\n",
    "    else: \n",
    "        shub_dict[song['track']['artists'][0]['name']] += 1\n",
    "        \n",
    "print('Jorge has', len(jorge_dict), 'different artists in his playlist of', playlist2['tracks']['total'], 'songs.')\n",
    "print('Whereas Shubham has', len(shub_dict), 'different artists in his playlist of', playlist['tracks']['total'], 'songs.')\n",
    "labels = 'Jorge', 'Shubham'\n",
    "sizes = [len(jorge_dict), len(shub_dict)]\n",
    "fig1, ax1 = plt.subplots()\n",
    "ax1.pie(sizes, autopct='%1.1f%%',\n",
    "        shadow=True, startangle=90)\n",
    "ax1.axis('equal')\n",
    "plt.legend(labels = labels) \n",
    "\n",
    "plt.show()"
   ]
  },
  {
   "cell_type": "markdown",
   "id": "8a4508ac",
   "metadata": {},
   "source": [
    "As can be seen in the pie chart above Shubham has more variety in artists in his playlist. He has a single repeated artist where as Jorge has multiple songs by the same artist. They both have a variety, but Shubhams variety is greater than Jorges."
   ]
  },
  {
   "cell_type": "code",
   "execution_count": 9,
   "id": "070d19c2",
   "metadata": {},
   "outputs": [
    {
     "name": "stdout",
     "output_type": "stream",
     "text": [
      "Average popularity for Shubham's playlist: 53.42\n",
      "Average popularity for Jorge's playlist: 62.5\n"
     ]
    }
   ],
   "source": [
    "popularity_shubham = []\n",
    "for song in results['tracks']['items']:\n",
    "    popularity_shubham.append(song['track']['popularity'])\n",
    "    \n",
    "popularity_jorge = []\n",
    "for song in results2['tracks']['items']:\n",
    "    popularity_jorge.append(song['track']['popularity'])\n",
    "    \n",
    "print('Average popularity for Shubham\\'s playlist:', round(sum(popularity_shubham)/len(popularity_shubham), 2))\n",
    "print('Average popularity for Jorge\\'s playlist:', round(sum(popularity_jorge)/len(popularity_jorge), 2))"
   ]
  },
  {
   "cell_type": "code",
   "execution_count": 10,
   "id": "f3b56acb",
   "metadata": {},
   "outputs": [],
   "source": [
    "names = ['Jorge', 'Shubham']\n",
    "scores = [round(sum(popularity_jorge)/len(popularity_jorge), 2), round(sum(popularity_shubham)/len(popularity_shubham), 2)]"
   ]
  },
  {
   "cell_type": "code",
   "execution_count": 11,
   "id": "02437367",
   "metadata": {},
   "outputs": [
    {
     "data": {
      "image/png": "[encoded data removed]",
      "text/plain": [
       "<Figure size 432x288 with 1 Axes>"
      ]
     },
     "metadata": {
      "needs_background": "light"
     },
     "output_type": "display_data"
    }
   ],
   "source": [
    "fig = plt.figure()\n",
    "ax = fig.add_axes([0,0,1,1])\n",
    "ax.bar(names,scores)\n",
    "ax.set_ylabel('Popularity Score')\n",
    "ax.set_title('Jorge V.S. Shubham: Song Popularity')\n",
    "plt.show()"
   ]
  },
  {
   "cell_type": "markdown",
   "id": "d6b8b802",
   "metadata": {},
   "source": [
    "As can be seen from the graphic above Jorge appears to have the more popular songs on his playlist. Jorge's popularity scores avereaged to just over 60 and Shubham's popularity scores averaged just over 50."
   ]
  },
  {
   "cell_type": "markdown",
   "id": "4bcfc357",
   "metadata": {},
   "source": [
    "Using the information we have gathered we will now develop a list of reccomendations for each playlist. Each set of recommendations will be unique to a playlist and will group five songs and artists together until there are none left in order to generate the best recommendations for that particular playlist. "
   ]
  },
  {
   "cell_type": "code",
   "execution_count": 12,
   "id": "ca13606a",
   "metadata": {},
   "outputs": [
    {
     "name": "stdout",
     "output_type": "stream",
     "text": [
      "Recommendations for Jorge: \n",
      "23 Preguntas - Anuel AA\n",
      "White Ferrari - Frank Ocean\n",
      "Si Tu Novio Te Deja Sola - J Balvin\n",
      "Don't - Bryson Tiller\n",
      "No Pare - Yandel\n",
      "Caramelo - Ozuna\n",
      "HOY COBRÉ - Bad Bunny\n",
      "Welcome To The Party - Pop Smoke\n",
      "Rewrite The Stars (with James Arthur & Anne-Marie) - James Arthur\n",
      "All The Stars (with SZA) - Kendrick Lamar\n",
      "You the Moon and Me - Simplified\n",
      "Dance Yrself Clean - LCD Soundsystem\n",
      "Right Here Right Now (feat. Eric Rachmany and Stick Figure) - Iration\n",
      "Babylon Is Falling - Slightly Stoopid\n",
      "La Nota - Manuel Turizo\n",
      "MIA (feat. Drake) - Bad Bunny\n",
      "Often - The Weeknd\n",
      "Lottery (Renegade) - K CAMP\n",
      "I Sat by the Ocean - Queens of the Stone Age\n",
      "ATWA - System Of A Down\n",
      "Miss The Rage (feat. Playboi Carti) - Trippie Redd\n",
      "No Me Ame - Rvssian\n",
      "Quiéreme Mientras Se Pueda - Manuel Turizo\n",
      "La Neta - Lenny Tavárez\n",
      "Extasy - Myke Towers\n",
      "Del Mar - Ozuna\n",
      "Youth of the Nation - P.O.D.\n",
      "Bichiyal - Bad Bunny\n",
      "Who Do You Trust? - Papa Roach\n",
      "#thatPOWER - will.i.am\n",
      "Young and Able - Current Swell\n",
      "See You Again (feat. Kali Uchis) - Tyler, The Creator\n",
      "Apparently - J. Cole\n",
      "Pintao - Duki\n",
      "The London (feat. J. Cole & Travis Scott) - Young Thug\n",
      "Be Okay (with HRVY) - R3HAB\n",
      "Memo Blue - Alina Baraz\n",
      "Naked - Lucas Estrada\n",
      "No Promises (feat. Demi Lovato) - Cheat Codes\n",
      "Play - Jax Jones\n",
      "\n",
      "\n",
      "Recommendations for Shubham: \n",
      "Over the Hills and Far Away - Remaster - Led Zeppelin\n",
      "Lay, Lady, Lay - Bob Dylan\n",
      "Mary Jane's Last Dance - Tom Petty and the Heartbreakers\n",
      "Power of Soul - Live at the Fillmore East, NY - 12/31/69 - 1st Set - Jimi Hendrix\n",
      "Empty Pages - Remastered 2010 - Traffic\n",
      "よこはま・たそがれ - ニューバージョン - Hiroshi Itsuki\n",
      "Is She Really Going Out With Him? - Joe Jackson\n",
      "Tonight I'll Be Staying Here with You - Bob Dylan\n",
      "Suspicious Minds - Elvis Presley\n",
      "Cradle Of Love - Billy Idol\n",
      "Hand in Glove - 2011 Remaster - The Smiths\n",
      "Rosanna - TOTO\n",
      "Nightswimming - R.E.M.\n",
      "Dust N' Bones - Guns N' Roses\n",
      "Sounds Like a Melody - 2019 Remaster - Alphaville\n",
      "These Eyes - The Guess Who\n",
      "We're An American Band - Remastered 2002 - Grand Funk Railroad\n",
      "I Fall To Pieces - Single Version - Patsy Cline\n",
      "You Can't Always Get What You Want - The Rolling Stones\n",
      "Swingin' - John Anderson\n",
      "Shadow Light - Live At The Pool - Ardyn\n",
      "Strangers - Tia Gostelow\n",
      "Mess Her Up - Amy Shark\n",
      "The Heart Of The Matter - Don Henley\n",
      "Rodeo Clowns - Ella On The Run\n",
      "My Favorite Fish - Gus Dapperton\n",
      "First Crush - Empire of the Sun\n",
      "Angels Lullaby - Arash\n",
      "Stay True (feat. Helena) - Men I Trust\n",
      "I Will Always Love You - Whitney Houston\n",
      "Running Up That Hill - Placebo\n",
      "METALLICA - Yung Beef\n",
      "MALDICIÓN - Cap.10: Cordura - ROSALÍA\n",
      "Saturdays (feat. HAIM) - Twin Shadow\n",
      "Volcano Girls - Veruca Salt\n"
     ]
    }
   ],
   "source": [
    "artists = []\n",
    "print('Recommendations for Jorge: ')\n",
    "for song in results2['tracks']['items']:\n",
    "    if len(artists) < 5:\n",
    "        artists.append(song['track']['artists'][0]['id'])\n",
    "    else:\n",
    "        rec = sp.recommendations(artists, limit=5)\n",
    "        for title in rec['tracks']:\n",
    "            print(title['name'], '-', title['artists'][0]['name'])\n",
    "        artists.clear()\n",
    "        \n",
    "print('\\n')\n",
    "\n",
    "artists = []\n",
    "print('Recommendations for Shubham: ')\n",
    "for song in results['tracks']['items']:\n",
    "    if len(artists) < 5:\n",
    "        artists.append(song['track']['artists'][0]['id'])\n",
    "    else:\n",
    "        rec = sp.recommendations(artists, limit=5)\n",
    "        for title in rec['tracks']:\n",
    "            print(title['name'], '-', title['artists'][0]['name'])\n",
    "        artists.clear()"
   ]
  },
  {
   "cell_type": "code",
   "execution_count": 13,
   "id": "d291786c",
   "metadata": {},
   "outputs": [],
   "source": [
    "jorge_dates = []\n",
    "for song_date in results2['tracks']['items']:\n",
    "    jorge_dates.append(int(song_date['track']['album']['release_date'][0:4]))\n",
    "    \n",
    "shubham_dates = []\n",
    "for song_date1 in results['tracks']['items']:\n",
    "    shubham_dates.append(int(song_date1['track']['album']['release_date'][0:4]))"
   ]
  },
  {
   "cell_type": "code",
   "execution_count": 14,
   "id": "aac040d8",
   "metadata": {},
   "outputs": [
    {
     "name": "stdout",
     "output_type": "stream",
     "text": [
      "Average song age for Jorge's playlist: 4.3125\n",
      "Average song age for Shubham's playlist: 27.40000000000009\n"
     ]
    }
   ],
   "source": [
    "print(\"Average song age for Jorge\\'s playlist:\", 2021 - np.mean(jorge_dates))\n",
    "print(\"Average song age for Shubham\\'s playlist:\", 2021 - np.mean(shubham_dates))"
   ]
  },
  {
   "cell_type": "markdown",
   "id": "080d98b6",
   "metadata": {},
   "source": [
    "As can be seen from the analysis above the average song age of Shubham's playlist is much greater than than that of Jorge's playlist. This means that Shubham has songs that are much older than that of Jorge's playlist. The average release date of Jorge's playlist is 2016 and the average release date is Shubham's playlist is 1993."
   ]
  },
  {
   "cell_type": "markdown",
   "id": "17546140",
   "metadata": {},
   "source": [
    "## Machine Learning Model (KNN)"
   ]
  },
  {
   "cell_type": "markdown",
   "id": "eb5243d1",
   "metadata": {},
   "source": [
    "In order to build a K-Nearest Neighbors model we must begin by adding labels to each playlist. In our case Jorge will be labeled '0' and Shubham will be labeled '1'."
   ]
  },
  {
   "cell_type": "code",
   "execution_count": 15,
   "id": "5fb6150f",
   "metadata": {},
   "outputs": [
    {
     "ename": "ModuleNotFoundError",
     "evalue": "No module named 'sklearn.utils'",
     "output_type": "error",
     "traceback": [
      "\u001b[1;31m---------------------------------------------------------------------------\u001b[0m",
      "\u001b[1;31mModuleNotFoundError\u001b[0m                       Traceback (most recent call last)",
      "\u001b[1;32m~\\AppData\\Local\\Temp/ipykernel_713668/2068807350.py\u001b[0m in \u001b[0;36m<module>\u001b[1;34m\u001b[0m\n\u001b[1;32m----> 1\u001b[1;33m \u001b[1;32mfrom\u001b[0m \u001b[0msklearn\u001b[0m\u001b[1;33m.\u001b[0m\u001b[0mpreprocessing\u001b[0m \u001b[1;32mimport\u001b[0m \u001b[0mStandardScaler\u001b[0m\u001b[1;33m\u001b[0m\u001b[1;33m\u001b[0m\u001b[0m\n\u001b[0m\u001b[0;32m      2\u001b[0m \u001b[1;32mfrom\u001b[0m \u001b[0msklearn\u001b[0m\u001b[1;33m.\u001b[0m\u001b[0mneighbors\u001b[0m \u001b[1;32mimport\u001b[0m \u001b[0mKNeighborsClassifier\u001b[0m\u001b[1;33m\u001b[0m\u001b[1;33m\u001b[0m\u001b[0m\n\u001b[0;32m      3\u001b[0m \u001b[1;32mfrom\u001b[0m \u001b[0msklearn\u001b[0m\u001b[1;33m.\u001b[0m\u001b[0mmodel_selection\u001b[0m \u001b[1;32mimport\u001b[0m \u001b[0mtrain_test_split\u001b[0m\u001b[1;33m\u001b[0m\u001b[1;33m\u001b[0m\u001b[0m\n\u001b[0;32m      4\u001b[0m \u001b[1;32mfrom\u001b[0m \u001b[0msklearn\u001b[0m\u001b[1;33m.\u001b[0m\u001b[0mpipeline\u001b[0m \u001b[1;32mimport\u001b[0m \u001b[0mmake_pipeline\u001b[0m\u001b[1;33m\u001b[0m\u001b[1;33m\u001b[0m\u001b[0m\n",
      "\u001b[1;32m~\\AppData\\Local\\Packages\\PythonSoftwareFoundation.Python.3.9_qbz5n2kfra8p0\\LocalCache\\local-packages\\Python39\\site-packages\\sklearn\\__init__.py\u001b[0m in \u001b[0;36m<module>\u001b[1;34m\u001b[0m\n\u001b[0;32m     80\u001b[0m     \u001b[1;32mfrom\u001b[0m \u001b[1;33m.\u001b[0m \u001b[1;32mimport\u001b[0m \u001b[0m_distributor_init\u001b[0m  \u001b[1;31m# noqa: F401\u001b[0m\u001b[1;33m\u001b[0m\u001b[1;33m\u001b[0m\u001b[0m\n\u001b[0;32m     81\u001b[0m     \u001b[1;32mfrom\u001b[0m \u001b[1;33m.\u001b[0m \u001b[1;32mimport\u001b[0m \u001b[0m__check_build\u001b[0m  \u001b[1;31m# noqa: F401\u001b[0m\u001b[1;33m\u001b[0m\u001b[1;33m\u001b[0m\u001b[0m\n\u001b[1;32m---> 82\u001b[1;33m     \u001b[1;32mfrom\u001b[0m \u001b[1;33m.\u001b[0m\u001b[0mbase\u001b[0m \u001b[1;32mimport\u001b[0m \u001b[0mclone\u001b[0m\u001b[1;33m\u001b[0m\u001b[1;33m\u001b[0m\u001b[0m\n\u001b[0m\u001b[0;32m     83\u001b[0m     \u001b[1;32mfrom\u001b[0m \u001b[1;33m.\u001b[0m\u001b[0mutils\u001b[0m\u001b[1;33m.\u001b[0m\u001b[0m_show_versions\u001b[0m \u001b[1;32mimport\u001b[0m \u001b[0mshow_versions\u001b[0m\u001b[1;33m\u001b[0m\u001b[1;33m\u001b[0m\u001b[0m\n\u001b[0;32m     84\u001b[0m \u001b[1;33m\u001b[0m\u001b[0m\n",
      "\u001b[1;32m~\\AppData\\Local\\Packages\\PythonSoftwareFoundation.Python.3.9_qbz5n2kfra8p0\\LocalCache\\local-packages\\Python39\\site-packages\\sklearn\\base.py\u001b[0m in \u001b[0;36m<module>\u001b[1;34m\u001b[0m\n\u001b[0;32m     15\u001b[0m \u001b[1;32mfrom\u001b[0m \u001b[1;33m.\u001b[0m \u001b[1;32mimport\u001b[0m \u001b[0m__version__\u001b[0m\u001b[1;33m\u001b[0m\u001b[1;33m\u001b[0m\u001b[0m\n\u001b[0;32m     16\u001b[0m \u001b[1;32mfrom\u001b[0m \u001b[1;33m.\u001b[0m\u001b[0m_config\u001b[0m \u001b[1;32mimport\u001b[0m \u001b[0mget_config\u001b[0m\u001b[1;33m\u001b[0m\u001b[1;33m\u001b[0m\u001b[0m\n\u001b[1;32m---> 17\u001b[1;33m \u001b[1;32mfrom\u001b[0m \u001b[1;33m.\u001b[0m\u001b[0mutils\u001b[0m \u001b[1;32mimport\u001b[0m \u001b[0m_IS_32BIT\u001b[0m\u001b[1;33m\u001b[0m\u001b[1;33m\u001b[0m\u001b[0m\n\u001b[0m\u001b[0;32m     18\u001b[0m from .utils._tags import (\n\u001b[0;32m     19\u001b[0m     \u001b[0m_DEFAULT_TAGS\u001b[0m\u001b[1;33m,\u001b[0m\u001b[1;33m\u001b[0m\u001b[1;33m\u001b[0m\u001b[0m\n",
      "\u001b[1;31mModuleNotFoundError\u001b[0m: No module named 'sklearn.utils'"
     ]
    }
   ],
   "source": [
    "from sklearn.preprocessing import StandardScaler\n",
    "from sklearn.neighbors import KNeighborsClassifier\n",
    "from sklearn.model_selection import train_test_split\n",
    "from sklearn.pipeline import make_pipeline"
   ]
  },
  {
   "cell_type": "code",
   "execution_count": null,
   "id": "972ab058",
   "metadata": {},
   "outputs": [],
   "source": [
    "shubham_class = []\n",
    "for i in range(len(df)) :\n",
    "    shubham_class.append(1)\n",
    "    \n",
    "jorge_class = []\n",
    "for i in range(len(df2)) :\n",
    "    jorge_class.append(0)\n",
    "    \n",
    "df['class'] = shubham_class\n",
    "df2['class'] = jorge_class"
   ]
  },
  {
   "cell_type": "markdown",
   "id": "785fb0bd",
   "metadata": {},
   "source": [
    "Once the labels have been added to each playlist dataframe we must now concatenate the two data frames."
   ]
  },
  {
   "cell_type": "code",
   "execution_count": null,
   "id": "ef39f640",
   "metadata": {},
   "outputs": [],
   "source": [
    "frames = [df,df2]\n",
    "df3 = pd.concat(frames)\n",
    "df3"
   ]
  },
  {
   "cell_type": "markdown",
   "id": "a8039f49",
   "metadata": {},
   "source": [
    "Using the bar chart titled \"Jorge's and Shubham's Playlist Comparison\" above we can see that the two columns with the highest difference are \"Danceability\" and \"Speechiness\" so we will use those columns to train our model."
   ]
  },
  {
   "cell_type": "code",
   "execution_count": null,
   "id": "a87af8e6",
   "metadata": {},
   "outputs": [],
   "source": [
    "plt.scatter( df.danceability, df.speechiness, color='red',\n",
    "            alpha=1\n",
    ")\n",
    "plt.scatter( df2.danceability, df2.speechiness, color='blue',\n",
    "            alpha=1\n",
    ")\n",
    "plt.xlabel('Danceability')\n",
    "plt.ylabel('Speechiness')"
   ]
  },
  {
   "cell_type": "markdown",
   "id": "2d3be8b1",
   "metadata": {},
   "source": [
    "Using the features \"danceability\" and \"Speechiness\" we are able to see with the scatter plot that Shubham's music (red label) is grouped up on the bottom left for the most part and Jorge's music (blue label) is grouped on the upper right. It is not hard to see the clear separation in the two differnt playlists. From here we can build a K-Nearest Neighbors model to predict whether a song will fall under Jorge's or Shubham's playlist."
   ]
  },
  {
   "cell_type": "markdown",
   "id": "a1f31fea",
   "metadata": {},
   "source": [
    "We will begin by splitting the data into a training and testing data sets."
   ]
  },
  {
   "cell_type": "code",
   "execution_count": null,
   "id": "1904e116",
   "metadata": {},
   "outputs": [],
   "source": [
    "x_train, x_test, y_train, y_test = train_test_split(\n",
    "    df3[['danceability','speechiness']], df3['class'], test_size=0.33, random_state=42)"
   ]
  },
  {
   "cell_type": "markdown",
   "id": "e6fd1472",
   "metadata": {},
   "source": [
    "Once our data has been split we can train our model and fit it to our data. Once the model is trained we can pass in our testing data and see if our predictions are correct."
   ]
  },
  {
   "cell_type": "markdown",
   "id": "f2004502",
   "metadata": {},
   "source": [
    "We decided that we wanted to test multiple values for K so we trained the model in a loop with varrying values for K. Each iteration tests a different number of neighbors  and records the accuracy to see if the number of neighbors affects the accuracy."
   ]
  },
  {
   "cell_type": "code",
   "execution_count": null,
   "id": "132634ea",
   "metadata": {},
   "outputs": [],
   "source": [
    "k_vals = [1,2,3,4,5,6,7,8,9,10]\n",
    "acc = []\n",
    "for k in k_vals:\n",
    "    pipeline = make_pipeline(StandardScaler(), KNeighborsClassifier(n_neighbors=k))\n",
    "    pipeline.fit(x_train,y_train)\n",
    "    pred_labels = pipeline.predict(x_test)\n",
    "    accuracy = sum(y_test == pred_labels)/len(y_test)\n",
    "    acc.append(accuracy)"
   ]
  },
  {
   "cell_type": "code",
   "execution_count": null,
   "id": "837e7734",
   "metadata": {},
   "outputs": [],
   "source": [
    "mean_list = []\n",
    "std_list = []\n",
    "for row in acc:\n",
    "    row = np.array(row)\n",
    "    mean_list.append(row.mean())\n",
    "    std_list.append(row.std())\n",
    "plt.errorbar(k_vals, mean_list, std_list)\n",
    "plt.xlabel('K-Value')\n",
    "plt.ylabel('Accuracy')\n",
    "plt.show()"
   ]
  },
  {
   "cell_type": "markdown",
   "id": "2e666466",
   "metadata": {},
   "source": [
    "As can be seen from the chart above the highest accuracy we managed to achieve was about 87% and we were averaging an accuracy of about 80%. The lowest accuracy we achieved was about 67% which shows just how sensitive the 1-Nearest Neighbors model is to outliers. Perhaps we could increase accuracy by testing different features, but a better way would be to use a bigger dataset. "
   ]
  },
  {
   "cell_type": "code",
   "execution_count": 78,
   "id": "f357bbf6-d485-4303-852d-d136d33e90c1",
   "metadata": {},
   "outputs": [
    {
     "name": "stdout",
     "output_type": "stream",
     "text": [
      "1.7763568394002505e-14\n"
     ]
    },
    {
     "name": "stderr",
     "output_type": "stream",
     "text": [
      "C:\\Users\\Shubh\\AppData\\Local\\Temp/ipykernel_713668/1962866717.py:58: FutureWarning: Boolean inputs to the `inclusive` argument are deprecated infavour of `both` or `neither`.\n",
      "  df4.loc[df4['sum'].between(.77, 2.77, inclusive=False), 'Compatible with Shubham?'] = 'Yes'\n"
     ]
    },
    {
     "data": {
      "text/plain": [
       "(array([0, 1]), [Text(0, 0, 'No'), Text(1, 0, 'Yes')])"
      ]
     },
     "execution_count": 78,
     "metadata": {},
     "output_type": "execute_result"
    },
    {
     "data": {
      "image/png": "[encoded data removed]",
      "text/plain": [
       "<Figure size 432x288 with 1 Axes>"
      ]
     },
     "metadata": {
      "needs_background": "light"
     },
     "output_type": "display_data"
    }
   ],
   "source": [
    "# \"Machine learning\" to check playlist (Finding songs that are compatible with Shubham's Playlist)\n",
    "\n",
    "# Get Jorge's tracks\n",
    "results2 = sp.user_playlist(\"jorgevicencio87\", playlist2['id'], fields=\"tracks,next\")\n",
    "tracks = results2['tracks']\n",
    "\n",
    "# Go through each song in the playlist and compare to Shubham's mean\n",
    "ids3 = []\n",
    "\n",
    "for i in range(len(songs2)):\n",
    "    ids3.append(songs2[i][\"track\"][\"id\"])\n",
    "features2 = sp.audio_features(ids3)\n",
    "\n",
    "df3 = pd.DataFrame(features2)\n",
    "# Drop certain columns\n",
    "df3 = df3.drop(['type', 'analysis_url', 'track_href', 'uri', 'id'],  axis=1)\n",
    "\n",
    "# Normalize\n",
    "df4=(df3-df3.mean())/df3.std()\n",
    "\n",
    "# Sum up each row\n",
    "#for index, row in df4.iterrows():\n",
    "df4[\"sum\"] = df4.sum(axis=1)\n",
    "#df4\n",
    "    \n",
    "    \n",
    "    \n",
    "# Get Shubham's tracks\n",
    "results = sp.user_playlist(\"1232443238\", playlist['id'], fields=\"tracks,next\")\n",
    "tracks = results['tracks']\n",
    "\n",
    "# Go through each song in the playlist and compare to Shubham's mean\n",
    "ids4 = []\n",
    "\n",
    "for i in range(len(songs)):\n",
    "    ids4.append(songs[i][\"track\"][\"id\"])\n",
    "features = sp.audio_features(ids4)\n",
    "\n",
    "df10 = pd.DataFrame(features)\n",
    "# Drop certain columns\n",
    "df10 = df10.drop(['type', 'analysis_url', 'track_href', 'uri', 'id'],  axis=1)\n",
    "\n",
    "# Normalize\n",
    "df5=(df10-df10.mean())/df10.std()\n",
    "\n",
    "# Sum up each row\n",
    "#for index, row in df4.iterrows():\n",
    "df5[\"sum\"] = df5.sum(axis=1)\n",
    "df5\n",
    "\n",
    "checkval = df5[\"sum\"].sum(axis = 0)\n",
    "print(checkval)\n",
    "df4\n",
    "\n",
    "\n",
    "# Go through each row in Jorge Playlist and check if sum is close to checkval or not. If it is, then the song is compatible. If not, then, there is not compatibility\n",
    "# Compatibility is defined if the sum on Jorge's playlist is between .77-2.77 (range of 2)\n",
    "df4.loc[df4['sum'].between(.77, 2.77, inclusive=False), 'Compatible with Shubham?'] = 'Yes'\n",
    "df4['Compatible with Shubham?'] = df4['Compatible with Shubham?'].fillna('No')\n",
    "#df4['Compatible with Shubham?'].replace({\"NaN\": \"No\"}, inplace=True)\n",
    "\n",
    "C_S = df4['Compatible with Shubham?'].value_counts()\n",
    "C_S.plot.bar()\n",
    "plt.title(\"Songs from Jorge's Playlist compatible with Shubham's Playlist\")\n",
    "plt.xlabel(\"Compatibility\")\n",
    "plt.ylabel(\"Songs\")\n",
    "plt.xticks(rotation = 1)\n",
    "\n",
    "#df4 (print this out do get full detailed view)"
   ]
  },
  {
   "cell_type": "code",
   "execution_count": 65,
   "id": "2740f8d2-7d7b-427f-8bbc-6f1d9ddd3934",
   "metadata": {},
   "outputs": [
    {
     "name": "stdout",
     "output_type": "stream",
     "text": [
      "Songs from Jorge's Playlist that are compatible with mine\n",
      "\n",
      "1 Nio Garcia - AM Remix\n",
      "2 Bad Bunny - Yonaguni\n",
      "3 Yandel - Explícale\n",
      "4 The Weeknd - Save Your Tears\n",
      "15 The Strokes - Hard To Explain\n",
      "22 Farruko - La Cartera\n",
      "27 J Balvin - Rojo\n",
      "31 Bad Bunny - Pero Ya No\n",
      "34 Papa Roach - ...To Be Loved\n",
      "38 Anuel AA - Ella Quiere Beber - Remix\n",
      "39 Iration - Broken Promises\n",
      "41 Gorillaz - On Melancholy Hill\n",
      "43 Cash Cash - Broken Drum (feat. Fitz of Fitz and the Tantrums)\n",
      "\n"
     ]
    }
   ],
   "source": [
    "    \n",
    "print(\"Songs from Jorge's Playlist that are compatible with Shubham's Playlist\")\n",
    "print(\"\"\"\n",
    "1 Nio Garcia - AM Remix\n",
    "2 Bad Bunny - Yonaguni\n",
    "3 Yandel - Explícale\n",
    "4 The Weeknd - Save Your Tears\n",
    "15 The Strokes - Hard To Explain\n",
    "22 Farruko - La Cartera\n",
    "27 J Balvin - Rojo\n",
    "31 Bad Bunny - Pero Ya No\n",
    "34 Papa Roach - ...To Be Loved\n",
    "38 Anuel AA - Ella Quiere Beber - Remix\n",
    "39 Iration - Broken Promises\n",
    "41 Gorillaz - On Melancholy Hill\n",
    "43 Cash Cash - Broken Drum (feat. Fitz of Fitz and the Tantrums)\n",
    "\"\"\")"
   ]
  },
  {
   "cell_type": "code",
   "execution_count": 79,
   "id": "376014c4-2bd3-4322-bf58-ead8ad93a4e7",
   "metadata": {},
   "outputs": [
    {
     "name": "stdout",
     "output_type": "stream",
     "text": [
      "1.7763568394002505e-14\n"
     ]
    },
    {
     "name": "stderr",
     "output_type": "stream",
     "text": [
      "C:\\Users\\Shubh\\AppData\\Local\\Temp/ipykernel_713668/4222836175.py:58: FutureWarning: Boolean inputs to the `inclusive` argument are deprecated infavour of `both` or `neither`.\n",
      "  df51.loc[df51['sum'].between(.77, 2.77, inclusive=False), 'Compatible with Jorge?'] = 'Yes'\n"
     ]
    },
    {
     "data": {
      "text/plain": [
       "(array([0, 1]), [Text(0, 0, 'No'), Text(1, 0, 'Yes')])"
      ]
     },
     "execution_count": 79,
     "metadata": {},
     "output_type": "execute_result"
    },
    {
     "data": {
      "image/png": "[encoded data removed]",
      "text/plain": [
       "<Figure size 432x288 with 1 Axes>"
      ]
     },
     "metadata": {
      "needs_background": "light"
     },
     "output_type": "display_data"
    }
   ],
   "source": [
    "# \"Machine learning\" to check playlist (Finding songs that are compatible with Jorge's Playlist)\n",
    "\n",
    "# Get Shubham's tracks\n",
    "results = sp.user_playlist(\"1232443238\", playlist['id'], fields=\"tracks,next\")\n",
    "tracks = results['tracks']\n",
    "\n",
    "# Go through each song in the playlist and compare to Jorge's mean\n",
    "ids10 = []\n",
    "\n",
    "for i in range(len(songs)):\n",
    "    ids10.append(songs[i][\"track\"][\"id\"])\n",
    "features = sp.audio_features(ids10)\n",
    "\n",
    "df50 = pd.DataFrame(features)\n",
    "# Drop certain columns\n",
    "df50 = df50.drop(['type', 'analysis_url', 'track_href', 'uri', 'id'],  axis=1)\n",
    "\n",
    "# Normalize\n",
    "df51=(df50-df50.mean())/df50.std()\n",
    "\n",
    "# Sum up each row\n",
    "#for index, row in df4.iterrows():\n",
    "df51[\"sum\"] = df51.sum(axis=1)\n",
    "#df51\n",
    "    \n",
    "    \n",
    "    \n",
    "# Get Jorge's tracks\n",
    "\n",
    "results2 = sp.user_playlist(\"jorgevicencio87\", playlist2['id'], fields=\"tracks,next\")\n",
    "tracks = results2['tracks']\n",
    "# Go through each song in the playlist and compare to Jorge's mean\n",
    "ids11 = []\n",
    "\n",
    "for i in range(len(songs2)):\n",
    "    ids11.append(songs2[i][\"track\"][\"id\"])\n",
    "features2 = sp.audio_features(ids11)\n",
    "\n",
    "df20 = pd.DataFrame(features)\n",
    "# Drop certain columns\n",
    "df20 = df20.drop(['type', 'analysis_url', 'track_href', 'uri', 'id'],  axis=1)\n",
    "\n",
    "# Normalize\n",
    "df30=(df20-df20.mean())/df20.std()\n",
    "\n",
    "# Sum up each row\n",
    "#for index, row in df4.iterrows():\n",
    "df30[\"sum\"] = df30.sum(axis=1)\n",
    "df30\n",
    "\n",
    "checkval = df30[\"sum\"].sum(axis = 0)\n",
    "print(checkval)\n",
    "df51\n",
    "\n",
    "\n",
    "# Go through each row in Jorge Playlist and check if sum is close to checkval or not. If it is, then the song is compatible. If not, then, there is not compatibility\n",
    "# Compatibility is defined if the sum on Jorge's playlist is between .77-2.77 (range of 2)\n",
    "df51.loc[df51['sum'].between(.77, 2.77, inclusive=False), 'Compatible with Jorge?'] = 'Yes'\n",
    "df51['Compatible with Jorge?'] = df51['Compatible with Jorge?'].fillna('No')\n",
    "\n",
    "C_S = df51['Compatible with Jorge?'].value_counts()\n",
    "C_S.plot.bar()\n",
    "plt.title(\"Songs from Shubham's Playlist compatible with Jorge's Playlist\")\n",
    "plt.xlabel(\"Compatibility\")\n",
    "plt.ylabel(\"Songs\")\n",
    "plt.xticks(rotation = 1)\n",
    "\n",
    "#df51 (Print this out to get full detailed view)\n",
    "\n"
   ]
  },
  {
   "cell_type": "code",
   "execution_count": 77,
   "id": "5475f9f4-8b3d-4174-80b3-813e5c91a220",
   "metadata": {},
   "outputs": [
    {
     "name": "stdout",
     "output_type": "stream",
     "text": [
      "Songs from Shubham's Playlist that are compatible with Jorge's Playlist\n",
      "\n",
      "0 Jimi Hendrix - All Along the Watchtower\n",
      "12 Fleetwood Mac - The Chain - 2004 Remaster\n",
      "16 The Cranberries - Zombie\n",
      "33 Men I Trust - Tailwhip\n",
      "34 Madonna - Like a Prayer\n",
      "35 Kim Wilde - Kids In America\n",
      "\n",
      "\n"
     ]
    }
   ],
   "source": [
    "\n",
    "\n",
    "print(\"Songs from Shubham's Playlist that are compatible with Jorge's Playlist\")\n",
    "print(\"\"\"\n",
    "0 Jimi Hendrix - All Along the Watchtower\n",
    "12 Fleetwood Mac - The Chain - 2004 Remaster\n",
    "16 The Cranberries - Zombie\n",
    "33 Men I Trust - Tailwhip\n",
    "34 Madonna - Like a Prayer\n",
    "35 Kim Wilde - Kids In Americ\n",
    "\"\"\")"
   ]
  },
  {
   "cell_type": "code",
   "execution_count": null,
   "id": "a72c9229-578e-48af-b26a-0b9a8219bf33",
   "metadata": {},
   "outputs": [],
   "source": []
  }
 ],
 "metadata": {
  "kernelspec": {
   "display_name": "Python 3 (ipykernel)",
   "language": "python",
   "name": "python3"
  },
  "language_info": {
   "codemirror_mode": {
    "name": "ipython",
    "version": 3
   },
   "file_extension": ".py",
   "mimetype": "text/x-python",
   "name": "python",
   "nbconvert_exporter": "python",
   "pygments_lexer": "ipython3",
   "version": "3.9.6"
  }
 },
 "nbformat": 4,
 "nbformat_minor": 5
}
