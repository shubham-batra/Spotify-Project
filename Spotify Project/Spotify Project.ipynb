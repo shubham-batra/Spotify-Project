{
 "cells": [
  {
   "cell_type": "markdown",
   "metadata": {},
   "source": [
    "<font size = \"20\"> Spotify Music Analysis </font>\n",
    "\n",
    "In this project, we will attempt to analyze Spotify playlists to see how compatible two user's playlists are. We will also use content-based filtering to create a recommendation system. "
   ]
  },
  {
   "cell_type": "code",
   "execution_count": 1,
   "metadata": {},
   "outputs": [],
   "source": [
    "# All imports are listed here\n",
    "import requests\n",
    "import spotipy.util as util\n",
    "import spotipy\n",
    "import pandas as pd\n",
    "import numpy as np\n",
    "import matplotlib.pyplot as plt\n",
    "from spotipy.oauth2 import SpotifyClientCredentials\n",
    "from spotipy.oauth2 import SpotifyOAuth\n",
    "from json.decoder import JSONDecodeError"
   ]
  },
  {
   "cell_type": "markdown",
   "metadata": {},
   "source": [
    "The first step in the process is to authenticate with the Spotify API and then import both of our playlists. The songs of both playlists are printed below"
   ]
  },
  {
   "cell_type": "code",
   "execution_count": 2,
   "metadata": {},
   "outputs": [],
   "source": [
    "# Authentication with Spotify API\n",
    "sp = spotipy.Spotify()\n",
    "cid =\"9eab3f44cb5f42bd9d144ff2e2ad767f\"\n",
    "secret = \"677567e07a1c4d9980adc0da6868b316\"\n",
    "client_credentials_manager = SpotifyClientCredentials(client_id=cid, client_secret=secret)\n",
    "sp = spotipy.Spotify(client_credentials_manager=client_credentials_manager)\n",
    "sp.trace=False # What is this?\n",
    "\n",
    "# This is Shubham's playlist\n",
    "playlist = sp.user_playlist(\"1232443238\", \"5XpKz5MtjD6Vxh8mN3fhK7\")\n",
    "songs = playlist[\"tracks\"][\"items\"]\n",
    "ids = []\n",
    "\n",
    "# This is Jorge's playlist\n",
    "playlist2 = sp.user_playlist('jorgevicencio87', '1lbwjOlw40jDMvgmpbUlxL')\n",
    "songs2 = playlist2[\"tracks\"][\"items\"]\n",
    "ids2 = []\n",
    "\n"
   ]
  },
  {
   "cell_type": "code",
   "execution_count": 3,
   "metadata": {},
   "outputs": [
    {
     "name": "stdout",
     "output_type": "stream",
     "text": [
      "Playlist Name: Epic Songs (Shubhams Playlist)\n",
      "Total Tracks: 45\n",
      "1 Jimi Hendrix - All Along the Watchtower\n",
      "2 The Rolling Stones - Gimme Shelter\n",
      "3 Ten Years After - I'd Love To Change The World\n",
      "4 Nena - 99 Luftballons\n",
      "5 Ray Charles - Hit the Road Jack\n",
      "6 The Mamas & The Papas - California Dreamin'\n",
      "7 The Cars - Just What I Needed\n",
      "8 Neil Young - Heart of Gold - 2009 Remaster\n",
      "9 Kyu Sakamoto - Sukiyaki\n",
      "10 Bob Dylan - Don't Think Twice, It's All Right\n",
      "11 The Beatles - While My Guitar Gently Weeps - Remastered 2009\n",
      "12 Massive Attack - Paradise Circus\n",
      "13 Fleetwood Mac - The Chain - 2004 Remaster\n",
      "14 Guns N' Roses - Sweet Child O' Mine\n",
      "15 Men At Work - Down Under\n",
      "16 New Order - Bizarre Love Triangle\n",
      "17 The Cranberries - Zombie\n",
      "18 Brigitte Bardot - Bonnie And Clyde\n",
      "19 Johnny Cash - Hurt\n",
      "20 Led Zeppelin - Stairway to Heaven - Remaster\n",
      "21 Mary Hopkin - Those Were The Days - Remastered\n",
      "22 Lynyrd Skynyrd - Free Bird\n",
      "23 Derek & The Dominos - Layla\n",
      "24 Mazzy Star - Fade Into You\n",
      "25 Gorillaz - Feel Good Inc.\n",
      "26 Tom Petty and the Heartbreakers - Refugee\n",
      "27 Canozan - Sen Kocaman Çöllerde\n",
      "28 Meg Mac - Grace Gold\n",
      "29 julia clara - still dancing\n",
      "30 Nusrat Fateh Ali Khan - Mere Rashke Qamar\n",
      "31 Don Cherry - Band of Gold (with Ray Conniff & His Orchestra & Chorus)\n",
      "32 Edward Maya - Harem\n",
      "33 Empire of the Sun - DNA\n",
      "34 Men I Trust - Tailwhip\n",
      "35 Madonna - Like a Prayer\n",
      "36 Kim Wilde - Kids In America\n",
      "37 Radiohead - Karma Police\n",
      "38 The Smashing Pumpkins - 1979 - Remastered 2012\n",
      "39 ROSALÍA - DI MI NOMBRE - Cap.8: Éxtasis\n",
      "40 KT Tunstall - Suddenly I See\n",
      "41 Purity Ring - peacefall\n",
      "42 The Beatles - Eleanor Rigby - Remastered 2009\n",
      "43 Regina Spektor - Après Moi\n",
      "44 The Monkees - (I'm Not Your) Steppin' Stone - 2006 Remaster\n",
      "45 The Fly Bi Nights - Found Love\n",
      "\n",
      "Playlist Name: playlist 3 (Jorges Playlist)\n",
      "Total Tracks: 48\n",
      "1 Bad Bunny - De Museo\n",
      "2 Nio Garcia - AM Remix\n",
      "3 Bad Bunny - Yonaguni\n",
      "4 Yandel - Explícale\n",
      "5 The Weeknd - Save Your Tears\n",
      "6 Mac Miller - Surf\n",
      "7 Bruno Mars - Leave The Door Open\n",
      "8 Pop Smoke - The Woo (feat. 50 Cent & Roddy Ricch)\n",
      "9 Mac Miller - Kool Aid & Frozen Pizza\n",
      "10 Bad Bunny - EL MUNDO ES MÍO\n",
      "11 Bad Bunny - Me Mata\n",
      "12 Pop Smoke - Hello (feat. A Boogie Wit da Hoodie)\n",
      "13 Anuel AA - Amanece\n",
      "14 Anuel AA - Hasta Que Dios Diga\n",
      "15 Simplified - Wake 'N Bake\n",
      "16 The Strokes - Hard To Explain\n",
      "17 Rick Ross - Aston Martin Music\n",
      "18 Drake - Shot For Me\n",
      "19 The Weeknd - Snowchild\n",
      "20 Mustard - Ballin' (with Roddy Ricch)\n",
      "21 Nio Garcia - La Jeepeta - Remix\n",
      "22 Rage Against The Machine - Bombtrack\n",
      "23 Farruko - La Cartera\n",
      "24 DaBaby - ROCKSTAR (feat. Roddy Ricch)\n",
      "25 Bad Bunny - Callaita\n",
      "26 Jhay Cortez - CÓMO SE SIENTE - Remix\n",
      "27 Lil Mosey - Blueberry Faygo\n",
      "28 J Balvin - Rojo\n",
      "29 Bad Bunny - Está Cabrón Ser Yo\n",
      "30 Bad Bunny - Una Vez\n",
      "31 Bad Bunny - Soliá\n",
      "32 Bad Bunny - Pero Ya No\n",
      "33 Calvin Harris - Slide (feat. Frank Ocean & Migos)\n",
      "34 Ozuna - Solita\n",
      "35 Papa Roach - ...To Be Loved\n",
      "36 The Weeknd - Heartless\n",
      "37 The Weeknd - Blinding Lights\n",
      "38 Paulo Londra - Tal Vez\n",
      "39 Anuel AA - Ella Quiere Beber - Remix\n",
      "40 Iration - Broken Promises\n",
      "41 Kendrick Lamar - The Recipe - Bonus Track\n",
      "42 Gorillaz - On Melancholy Hill\n",
      "43 Alina Baraz - Electric (R3hab Remix)\n",
      "44 Cash Cash - Broken Drum (feat. Fitz of Fitz and the Tantrums)\n",
      "45 Kungs - This Girl (Kungs Vs. Cookin' On 3 Burners)\n",
      "46 Mac Miller - Weekend (feat. Miguel)\n",
      "47 Anderson .Paak - JEWELZ\n",
      "48 Bad Bunny - Ser Bichote\n"
     ]
    }
   ],
   "source": [
    "# Printing out playlist name and total tracks\n",
    "print('Playlist Name:', playlist['name'], '(Shubhams Playlist)')\n",
    "print('Total Tracks:', playlist['tracks']['total'])\n",
    "\n",
    "# Obtain tracks from Shubham's playlist\n",
    "results = sp.user_playlist(\"1232443238\", playlist['id'], fields=\"tracks,next\")\n",
    "tracks = results['tracks']\n",
    "\n",
    "# Print out all tracks from Shubham's playlist using a counter\n",
    "counter = 1\n",
    "for i in results['tracks']['items']:\n",
    "    print(counter, i['track']['artists'][0]['name'] + ' - ' + i['track']['name'])\n",
    "    counter = counter + 1\n",
    "print('')\n",
    "# Print out Jorge's playlist name and total tracks   \n",
    "print('Playlist Name:', playlist2['name'], '(Jorges Playlist)')\n",
    "print('Total Tracks:', playlist2['tracks']['total'])\n",
    "\n",
    "\n",
    "# Obtain tracks from Jorge's playlist\n",
    "results2 = sp.user_playlist(\"jorgevicencio87\", playlist2['id'], fields=\"tracks,next\")\n",
    "tracks = results2['tracks']\n",
    "\n",
    "# Print out all tracks from Jorge's playlist using a counter\n",
    "counter = 1\n",
    "for i in results2['tracks']['items']:\n",
    "    print(counter, i['track']['artists'][0]['name'] + ' - ' + i['track']['name'])\n",
    "    counter = counter + 1\n",
    "\n",
    "\n"
   ]
  },
  {
   "cell_type": "markdown",
   "metadata": {},
   "source": [
    "For the next step, we want to find out what the feature values are for each song in every playlist. Before the values are manipluated, for both playlists we will first normalize all of the numerical values and then find the average value for the entire playlist"
   ]
  },
  {
   "cell_type": "code",
   "execution_count": 4,
   "metadata": {},
   "outputs": [],
   "source": [
    "# Prints out all feature values in Shubham's Playlist\n",
    "for i in range(len(songs)):\n",
    "    ids.append(songs[i][\"track\"][\"id\"])\n",
    "features = sp.audio_features(ids)\n",
    "\n",
    "# Print out all feature Playlists in Jorge's Playlist\n",
    "for i in range(len(songs2)):\n",
    "    ids2.append(songs2[i][\"track\"][\"id\"])\n",
    "features2 = sp.audio_features(ids2)\n",
    "\n",
    "# Converting to dataframe and print\n",
    "df = pd.DataFrame(features)\n",
    "df2 = pd.DataFrame(features2)"
   ]
  },
  {
   "cell_type": "code",
   "execution_count": 5,
   "metadata": {},
   "outputs": [
    {
     "data": {
      "text/plain": [
       "[[0.6447161097527845, 'danceability'],\n",
       " [0.6563350785340313, 'energy'],\n",
       " [0.5010101010101009, 'key'],\n",
       " [-0.4888329593860761, 'loudness'],\n",
       " [0.5111111111111111, 'mode'],\n",
       " [0.22649291266575225, 'speechiness'],\n",
       " [0.3173055555555556, 'acousticness'],\n",
       " [0.1275048436068577, 'instrumentalness'],\n",
       " [0.2705600870038064, 'liveness'],\n",
       " [0.5325726141078838, 'valence'],\n",
       " [0.6840859832564179, 'tempo'],\n",
       " [0.4553031775421547, 'duration_ms'],\n",
       " [0.9833333333333333, 'time_signature']]"
      ]
     },
     "execution_count": 5,
     "metadata": {},
     "output_type": "execute_result"
    }
   ],
   "source": [
    "# Normalizing step for the 13 numeric columns? (Shubham's playlist)\n",
    "norm = df.copy()\n",
    "music1mean = []\n",
    "for col in df:\n",
    "    if (df[col].dtype != 'object'):\n",
    "        norm[col] = norm[col] /norm[col].abs().max()\n",
    "        music1mean.append([norm[col].mean(),col])\n",
    "        \n",
    "\n",
    "# Normalizing step for Jorge's Playlist \n",
    "norm = df2.copy()\n",
    "music2mean = []\n",
    "for col in df2:\n",
    "    if (df[col].dtype != 'object'):\n",
    "        norm[col] = norm[col] /norm[col].abs().max()\n",
    "        music2mean.append([norm[col].mean(),col])\n",
    "music1mean"
   ]
  },
  {
   "cell_type": "code",
   "execution_count": 6,
   "metadata": {},
   "outputs": [
    {
     "data": {
      "text/plain": [
       "[[0.7757596685082874, 'danceability'],\n",
       " [0.6808324812542604, 'energy'],\n",
       " [0.5094696969696969, 'key'],\n",
       " [-0.47146856982499097, 'loudness'],\n",
       " [0.5833333333333334, 'mode'],\n",
       " [0.35645900755124055, 'speechiness'],\n",
       " [0.24331286195844382, 'acousticness'],\n",
       " [0.03495854166666668, 'instrumentalness'],\n",
       " [0.21985837438423647, 'liveness'],\n",
       " [0.5607892763404575, 'valence'],\n",
       " [0.7141046960931957, 'tempo'],\n",
       " [0.546898830757996, 'duration_ms'],\n",
       " [1.0, 'time_signature']]"
      ]
     },
     "execution_count": 6,
     "metadata": {},
     "output_type": "execute_result"
    }
   ],
   "source": [
    "music2mean"
   ]
  },
  {
   "cell_type": "markdown",
   "metadata": {},
   "source": [
    "Here, we will find the difference between each of the feature values and then graph it"
   ]
  },
  {
   "cell_type": "code",
   "execution_count": 7,
   "metadata": {},
   "outputs": [
    {
     "data": {
      "text/plain": [
       "Text(0.5, 0, 'Feature')"
      ]
     },
     "execution_count": 7,
     "metadata": {},
     "output_type": "execute_result"
    },
    {
     "data": {
      "image/png": "[encoded data removed]",
      "text/plain": [
       "<Figure size 432x288 with 1 Axes>"
      ]
     },
     "metadata": {
      "needs_background": "light"
     },
     "output_type": "display_data"
    }
   ],
   "source": [
    "# First, need to convert lists to dataframe\n",
    "columns = []\n",
    "pl_data1 = []\n",
    "pl_data2 = []\n",
    "for tup in music1mean:\n",
    "    pl_data1.append(tup[0])\n",
    "    columns.append(tup[1])\n",
    "for tup in music2mean:\n",
    "    pl_data2.append(tup[0])\n",
    "    \n",
    "    \n",
    "df3 = pd.DataFrame(pl_data1, columns=['Mean'])\n",
    "df4 = pd.DataFrame(pl_data2, columns=['Mean'])\n",
    "df5 = df4-df3\n",
    "df5 = df5.abs()\n",
    "# Next, ned to graph\n",
    "chart = df5.plot.bar()\n",
    "chart.set_xticklabels(columns)\n",
    "chart.set_title('Jorge\\'s and Shubham\\'s Playlist Comparison')\n",
    "chart.set_ylabel('Average Feature Score')\n",
    "chart.set_xlabel('Feature')"
   ]
  },
  {
   "cell_type": "markdown",
   "metadata": {},
   "source": [
    "In the chart above the closer a value is to zero the more similar they are. As can be seen here our music taste from the sample playlist is quite differnt. However, if we examine the chart further we can see that we like music in a similar key, and we also like music with a similar length, liveness, and tempo. Every other column seems to have a big difference."
   ]
  },
  {
   "cell_type": "code",
   "execution_count": 8,
   "metadata": {},
   "outputs": [
    {
     "name": "stdout",
     "output_type": "stream",
     "text": [
      "Jorge has 30 different artists in his playlist of 48 songs.\n",
      "Whereas Shubham has 44 different artists in his playlist of 45 songs.\n"
     ]
    },
    {
     "data": {
      "image/png": "[encoded data removed]",
      "text/plain": [
       "<Figure size 432x288 with 1 Axes>"
      ]
     },
     "metadata": {},
     "output_type": "display_data"
    }
   ],
   "source": [
    "# TODO: Make artist graphic\n",
    "jorge_dict = {}\n",
    "for song in results2['tracks']['items']:\n",
    "    if song['track']['artists'][0]['name'] not in jorge_dict:\n",
    "        jorge_dict[song['track']['artists'][0]['name']] = 1\n",
    "    else: \n",
    "        jorge_dict[song['track']['artists'][0]['name']] += 1\n",
    "\n",
    "shub_dict = {}\n",
    "for song in results['tracks']['items']:\n",
    "    if song['track']['artists'][0]['name'] not in shub_dict:\n",
    "        shub_dict[song['track']['artists'][0]['name']] = 1\n",
    "    else: \n",
    "        shub_dict[song['track']['artists'][0]['name']] += 1\n",
    "        \n",
    "print('Jorge has', len(jorge_dict), 'different artists in his playlist of', playlist2['tracks']['total'], 'songs.')\n",
    "print('Whereas Shubham has', len(shub_dict), 'different artists in his playlist of', playlist['tracks']['total'], 'songs.')\n",
    "labels = 'Jorge', 'Shubham'\n",
    "sizes = [len(jorge_dict), len(shub_dict)]\n",
    "fig1, ax1 = plt.subplots()\n",
    "ax1.pie(sizes, autopct='%1.1f%%',\n",
    "        shadow=True, startangle=90)\n",
    "ax1.axis('equal')\n",
    "plt.legend(labels = labels) \n",
    "\n",
    "plt.show()"
   ]
  },
  {
   "cell_type": "markdown",
   "metadata": {},
   "source": [
    "As can be seen in the pie chart above Shubham has more variety in artists in his playlist. He has a single repeated artist where as Jorge has multiple songs by the same artist. They both have a variety, but Shubhams variety is greater than Jorges."
   ]
  },
  {
   "cell_type": "code",
   "execution_count": 9,
   "metadata": {},
   "outputs": [
    {
     "name": "stdout",
     "output_type": "stream",
     "text": [
      "Average popularity for Shubham's playlist: 53.42\n",
      "Average popularity for Jorge's playlist: 62.5\n"
     ]
    }
   ],
   "source": [
    "popularity_shubham = []\n",
    "for song in results['tracks']['items']:\n",
    "    popularity_shubham.append(song['track']['popularity'])\n",
    "    \n",
    "popularity_jorge = []\n",
    "for song in results2['tracks']['items']:\n",
    "    popularity_jorge.append(song['track']['popularity'])\n",
    "    \n",
    "print('Average popularity for Shubham\\'s playlist:', round(sum(popularity_shubham)/len(popularity_shubham), 2))\n",
    "print('Average popularity for Jorge\\'s playlist:', round(sum(popularity_jorge)/len(popularity_jorge), 2))"
   ]
  },
  {
   "cell_type": "code",
   "execution_count": 10,
   "metadata": {},
   "outputs": [],
   "source": [
    "names = ['Jorge', 'Shubham']\n",
    "scores = [round(sum(popularity_jorge)/len(popularity_jorge), 2), round(sum(popularity_shubham)/len(popularity_shubham), 2)]"
   ]
  },
  {
   "cell_type": "code",
   "execution_count": 11,
   "metadata": {},
   "outputs": [
    {
     "data": {
      "image/png": "[encoded data removed]",
      "text/plain": [
       "<Figure size 432x288 with 1 Axes>"
      ]
     },
     "metadata": {
      "needs_background": "light"
     },
     "output_type": "display_data"
    }
   ],
   "source": [
    "fig = plt.figure()\n",
    "ax = fig.add_axes([0,0,1,1])\n",
    "ax.bar(names,scores)\n",
    "ax.set_ylabel('Popularity Score')\n",
    "ax.set_title('Jorge V.S. Shubham: Song Popularity')\n",
    "plt.show()"
   ]
  },
  {
   "cell_type": "markdown",
   "metadata": {},
   "source": [
    "As can be seen from the graphic above Jorge appears to have the more popular songs on his playlist. Jorge's popularity scores avereaged to just over 60 and Shubham's popularity scores averaged just over 50."
   ]
  },
  {
   "cell_type": "markdown",
   "metadata": {},
   "source": [
    "Using the information we have gathered we will now develop a list of reccomendations for each playlist. Each set of recommendations will be unique to a playlist and will group five songs and artists together until there are none left in order to generate the best recommendations for that particular playlist. "
   ]
  },
  {
   "cell_type": "code",
   "execution_count": 12,
   "metadata": {},
   "outputs": [
    {
     "name": "stdout",
     "output_type": "stream",
     "text": [
      "Recommendations for Jorge: \n",
      "Japanese Denim - Daniel Caesar\n",
      "Mi tesoro (feat. Nicky Jam) - Zion & Lennox\n",
      "Infinitamente - Nio Garcia\n",
      "105 F Remix - KEVVO\n",
      "Fuck The World (Summer in London) - Brent Faiyaz\n",
      "25/8 - Bad Bunny\n",
      "Bitch, Don’t Kill My Vibe - Kendrick Lamar\n",
      "Slow Motion - Trey Songz\n",
      "Welcome Back - Bruno Mars\n",
      "Cheating on You - Charlie Puth\n",
      "Algo Mágico - Rauw Alejandro\n",
      "Do You Want To - Franz Ferdinand\n",
      "La Difícil - Bad Bunny\n",
      "Prrrum - Cosculluela\n",
      "Vampire - Feat. Whiteboy John - Tribal Seeds\n",
      "Jane Says - Jane's Addiction\n",
      "Drama (feat. Drake) - Roy Woods\n",
      "Low Low - Mustard\n",
      "3G (feat. Jon Z, Don Chezina, Chencho Corleone & Myke Towers) - Remix - Wisin\n",
      "No Se De Ella \"My Space\" - Don Omar\n",
      "Necesario - Miky Woodz\n",
      "Brillo - J Balvin\n",
      "Life's A Mess (feat. Halsey) - Juice WRLD\n",
      "NOT SOBER (feat. Polo G & Stunna Gambino) - The Kid LAROI\n",
      "Yonaguni - Bad Bunny\n",
      "Criminal - Natti Natasha\n",
      "Problems - Don Diablo\n",
      "You Spin Me Round (Like A Record) - Dope\n",
      "Síguelo Bailando - Ozuna\n",
      "Out Of Control - Hoobastank\n",
      "BIG BANK (feat. 2 Chainz, Big Sean, Nicki Minaj) - YG\n",
      "La Tóxica - Farruko\n",
      "I'm Yours - The Green\n",
      "t h e . c l i m b . b a c k - J. Cole\n",
      "Rage (feat. Travis Barker and Aimee Interrupter of The Interrupters) - Dirty Heads\n",
      "Real Life - Duke Dumont\n",
      "False Alarm - Matoma\n",
      "X - Tinashe\n",
      "Woke up in Bangkok - Deepend\n",
      "The Season | Carry Me - Anderson .Paak\n",
      "\n",
      "\n",
      "Recommendations for Shubham: \n",
      "Kids In America - Kim Wilde\n",
      "Burnin' for You - Blue Öyster Cult\n",
      "Ramble On - 1990 Remaster - Led Zeppelin\n",
      "Woman - Remastered 2010 - John Lennon\n",
      "Wunder gescheh'n - Nena\n",
      "雨の街を - Yumi Arai\n",
      "Like a Rolling Stone - Bob Dylan\n",
      "April Come She Will - Simon & Garfunkel\n",
      "そして想い出 - Kyu Sakamoto\n",
      "Rocky Mountain Way - Joe Walsh\n",
      "Are You Gonna Go My Way - Lenny Kravitz\n",
      "Age of Consent - 2015 Remaster - New Order\n",
      "Common People - Pulp\n",
      "1979 - Remastered 2012 - The Smashing Pumpkins\n",
      "Nothing Compares 2 U - Sinéad O'Connor\n",
      "Hello Darlin' - Conway Twitty\n",
      "Mean Old World - Band Version, Master Take - Derek & The Dominos\n",
      "Highway Star - Remastered 2012 - Deep Purple\n",
      "And When I Die - Blood, Sweat & Tears\n",
      "R.O.C.K. In The U.S.A. (A Salute To 60's Rock) - John Mellencamp\n",
      "Never Ever (feat. Sarah) - The Rubens\n",
      "Bad To The Bone - George Thorogood & The Destroyers\n",
      "My Life Is Better With You - My Brother, My Brother and Me Podcast Theme Song - Montaigne\n",
      "Moonlight on the River - Mac DeMarco\n",
      "Mary Jane's Last Dance - Tom Petty and the Heartbreakers\n",
      "Oh Devil - Electric Guest\n",
      "Ruby - Foster The People\n",
      "Because of You - Don Cherry\n",
      "Rush Rush - Paula Abdul\n",
      "Panama - Sports\n",
      "Que Se Muere Que Se Muere - ROSALÍA\n",
      "We Die Young - Alice In Chains\n",
      "Four Walls - BROODS\n",
      "stillness in woe - Purity Ring\n",
      "Gouge Away - Pixies\n"
     ]
    }
   ],
   "source": [
    "artists = []\n",
    "print('Recommendations for Jorge: ')\n",
    "for song in results2['tracks']['items']:\n",
    "    if len(artists) < 5:\n",
    "        artists.append(song['track']['artists'][0]['id'])\n",
    "    else:\n",
    "        rec = sp.recommendations(artists, limit=5)\n",
    "        for title in rec['tracks']:\n",
    "            print(title['name'], '-', title['artists'][0]['name'])\n",
    "        artists.clear()\n",
    "        \n",
    "print('\\n')\n",
    "\n",
    "artists = []\n",
    "print('Recommendations for Shubham: ')\n",
    "for song in results['tracks']['items']:\n",
    "    if len(artists) < 5:\n",
    "        artists.append(song['track']['artists'][0]['id'])\n",
    "    else:\n",
    "        rec = sp.recommendations(artists, limit=5)\n",
    "        for title in rec['tracks']:\n",
    "            print(title['name'], '-', title['artists'][0]['name'])\n",
    "        artists.clear()"
   ]
  },
  {
   "cell_type": "code",
   "execution_count": 13,
   "metadata": {},
   "outputs": [],
   "source": [
    "jorge_dates = []\n",
    "for song_date in results2['tracks']['items']:\n",
    "    jorge_dates.append(int(song_date['track']['album']['release_date'][0:4]))\n",
    "    \n",
    "shubham_dates = []\n",
    "for song_date1 in results['tracks']['items']:\n",
    "    shubham_dates.append(int(song_date1['track']['album']['release_date'][0:4]))"
   ]
  },
  {
   "cell_type": "code",
   "execution_count": 94,
   "metadata": {},
   "outputs": [
    {
     "name": "stdout",
     "output_type": "stream",
     "text": [
      "Average song age for Jorge's playlist: 4.3125\n",
      "Average song age for Shubham's playlist: 27.40000000000009\n"
     ]
    }
   ],
   "source": [
    "print(\"Average song age for Jorge\\'s playlist:\", 2021 - np.mean(jorge_dates))\n",
    "print(\"Average song age for Shubham\\'s playlist:\", 2021 - np.mean(shubham_dates))"
   ]
  },
  {
   "cell_type": "markdown",
   "metadata": {},
   "source": [
    "As can be seen from the analysis above the average song age of Shubham's playlist is much greater than than that of Jorge's playlist. This means that Shubham has songs that are much older than that of Jorge's playlist. The average release date of Jorge's playlist is 2016 and the average release date is Shubham's playlist is 1993."
   ]
  },
  {
   "cell_type": "markdown",
   "metadata": {},
   "source": [
    "## Machine Learning Model (KNN)"
   ]
  },
  {
   "cell_type": "markdown",
   "metadata": {},
   "source": [
    "In order to build a K-Nearest Neighbors model we must begin by adding labels to each playlist. In our case Jorge will be labeled '0' and Shubham will be labeled '1'."
   ]
  },
  {
   "cell_type": "code",
   "execution_count": 15,
   "metadata": {},
   "outputs": [],
   "source": [
    "from sklearn.preprocessing import StandardScaler\n",
    "from sklearn.neighbors import KNeighborsClassifier\n",
    "from sklearn.model_selection import train_test_split\n",
    "from sklearn.pipeline import make_pipeline"
   ]
  },
  {
   "cell_type": "code",
   "execution_count": 16,
   "metadata": {},
   "outputs": [],
   "source": [
    "shubham_class = []\n",
    "for i in range(len(df)) :\n",
    "    shubham_class.append(1)\n",
    "    \n",
    "jorge_class = []\n",
    "for i in range(len(df2)) :\n",
    "    jorge_class.append(0)\n",
    "    \n",
    "df['class'] = shubham_class\n",
    "df2['class'] = jorge_class"
   ]
  },
  {
   "cell_type": "markdown",
   "metadata": {},
   "source": [
    "Once the labels have been added to each playlist dataframe we must now concatenate the two data frames."
   ]
  },
  {
   "cell_type": "code",
   "execution_count": 39,
   "metadata": {},
   "outputs": [
    {
     "data": {
      "text/html": [
       "<div>\n",
       "<style scoped>\n",
       "    .dataframe tbody tr th:only-of-type {\n",
       "        vertical-align: middle;\n",
       "    }\n",
       "\n",
       "    .dataframe tbody tr th {\n",
       "        vertical-align: top;\n",
       "    }\n",
       "\n",
       "    .dataframe thead th {\n",
       "        text-align: right;\n",
       "    }\n",
       "</style>\n",
       "<table border=\"1\" class=\"dataframe\">\n",
       "  <thead>\n",
       "    <tr style=\"text-align: right;\">\n",
       "      <th></th>\n",
       "      <th>danceability</th>\n",
       "      <th>energy</th>\n",
       "      <th>key</th>\n",
       "      <th>loudness</th>\n",
       "      <th>mode</th>\n",
       "      <th>speechiness</th>\n",
       "      <th>acousticness</th>\n",
       "      <th>instrumentalness</th>\n",
       "      <th>liveness</th>\n",
       "      <th>valence</th>\n",
       "      <th>tempo</th>\n",
       "      <th>type</th>\n",
       "      <th>id</th>\n",
       "      <th>uri</th>\n",
       "      <th>track_href</th>\n",
       "      <th>analysis_url</th>\n",
       "      <th>duration_ms</th>\n",
       "      <th>time_signature</th>\n",
       "      <th>class</th>\n",
       "    </tr>\n",
       "  </thead>\n",
       "  <tbody>\n",
       "    <tr>\n",
       "      <th>0</th>\n",
       "      <td>0.438</td>\n",
       "      <td>0.805</td>\n",
       "      <td>8</td>\n",
       "      <td>-6.237</td>\n",
       "      <td>1</td>\n",
       "      <td>0.0624</td>\n",
       "      <td>0.00255</td>\n",
       "      <td>0.000057</td>\n",
       "      <td>0.0842</td>\n",
       "      <td>0.564</td>\n",
       "      <td>113.253</td>\n",
       "      <td>audio_features</td>\n",
       "      <td>2aoo2jlRnM3A0NyLQqMN2f</td>\n",
       "      <td>spotify:track:2aoo2jlRnM3A0NyLQqMN2f</td>\n",
       "      <td>https://api.spotify.com/v1/tracks/2aoo2jlRnM3A...</td>\n",
       "      <td>https://api.spotify.com/v1/audio-analysis/2aoo...</td>\n",
       "      <td>240800</td>\n",
       "      <td>4</td>\n",
       "      <td>1</td>\n",
       "    </tr>\n",
       "    <tr>\n",
       "      <th>1</th>\n",
       "      <td>0.634</td>\n",
       "      <td>0.630</td>\n",
       "      <td>1</td>\n",
       "      <td>-8.277</td>\n",
       "      <td>0</td>\n",
       "      <td>0.0310</td>\n",
       "      <td>0.44700</td>\n",
       "      <td>0.039000</td>\n",
       "      <td>0.1700</td>\n",
       "      <td>0.489</td>\n",
       "      <td>118.628</td>\n",
       "      <td>audio_features</td>\n",
       "      <td>6H3kDe7CGoWYBabAeVWGiD</td>\n",
       "      <td>spotify:track:6H3kDe7CGoWYBabAeVWGiD</td>\n",
       "      <td>https://api.spotify.com/v1/tracks/6H3kDe7CGoWY...</td>\n",
       "      <td>https://api.spotify.com/v1/audio-analysis/6H3k...</td>\n",
       "      <td>270773</td>\n",
       "      <td>4</td>\n",
       "      <td>1</td>\n",
       "    </tr>\n",
       "    <tr>\n",
       "      <th>2</th>\n",
       "      <td>0.382</td>\n",
       "      <td>0.497</td>\n",
       "      <td>4</td>\n",
       "      <td>-11.815</td>\n",
       "      <td>0</td>\n",
       "      <td>0.0328</td>\n",
       "      <td>0.11700</td>\n",
       "      <td>0.233000</td>\n",
       "      <td>0.1100</td>\n",
       "      <td>0.391</td>\n",
       "      <td>117.446</td>\n",
       "      <td>audio_features</td>\n",
       "      <td>4D3Twi99sdqxesC68XAPf5</td>\n",
       "      <td>spotify:track:4D3Twi99sdqxesC68XAPf5</td>\n",
       "      <td>https://api.spotify.com/v1/tracks/4D3Twi99sdqx...</td>\n",
       "      <td>https://api.spotify.com/v1/audio-analysis/4D3T...</td>\n",
       "      <td>224027</td>\n",
       "      <td>4</td>\n",
       "      <td>1</td>\n",
       "    </tr>\n",
       "    <tr>\n",
       "      <th>3</th>\n",
       "      <td>0.575</td>\n",
       "      <td>0.555</td>\n",
       "      <td>4</td>\n",
       "      <td>-7.495</td>\n",
       "      <td>1</td>\n",
       "      <td>0.0453</td>\n",
       "      <td>0.10300</td>\n",
       "      <td>0.000001</td>\n",
       "      <td>0.1110</td>\n",
       "      <td>0.504</td>\n",
       "      <td>95.361</td>\n",
       "      <td>audio_features</td>\n",
       "      <td>4ZhPLoMzZwewHLLjV1J15c</td>\n",
       "      <td>spotify:track:4ZhPLoMzZwewHLLjV1J15c</td>\n",
       "      <td>https://api.spotify.com/v1/tracks/4ZhPLoMzZwew...</td>\n",
       "      <td>https://api.spotify.com/v1/audio-analysis/4ZhP...</td>\n",
       "      <td>232467</td>\n",
       "      <td>4</td>\n",
       "      <td>1</td>\n",
       "    </tr>\n",
       "    <tr>\n",
       "      <th>4</th>\n",
       "      <td>0.599</td>\n",
       "      <td>0.704</td>\n",
       "      <td>8</td>\n",
       "      <td>-8.566</td>\n",
       "      <td>0</td>\n",
       "      <td>0.2430</td>\n",
       "      <td>0.71400</td>\n",
       "      <td>0.000000</td>\n",
       "      <td>0.5210</td>\n",
       "      <td>0.950</td>\n",
       "      <td>173.043</td>\n",
       "      <td>audio_features</td>\n",
       "      <td>3Q7LXyGZ3SLD0dLztx3j5x</td>\n",
       "      <td>spotify:track:3Q7LXyGZ3SLD0dLztx3j5x</td>\n",
       "      <td>https://api.spotify.com/v1/tracks/3Q7LXyGZ3SLD...</td>\n",
       "      <td>https://api.spotify.com/v1/audio-analysis/3Q7L...</td>\n",
       "      <td>120173</td>\n",
       "      <td>4</td>\n",
       "      <td>1</td>\n",
       "    </tr>\n",
       "    <tr>\n",
       "      <th>...</th>\n",
       "      <td>...</td>\n",
       "      <td>...</td>\n",
       "      <td>...</td>\n",
       "      <td>...</td>\n",
       "      <td>...</td>\n",
       "      <td>...</td>\n",
       "      <td>...</td>\n",
       "      <td>...</td>\n",
       "      <td>...</td>\n",
       "      <td>...</td>\n",
       "      <td>...</td>\n",
       "      <td>...</td>\n",
       "      <td>...</td>\n",
       "      <td>...</td>\n",
       "      <td>...</td>\n",
       "      <td>...</td>\n",
       "      <td>...</td>\n",
       "      <td>...</td>\n",
       "      <td>...</td>\n",
       "    </tr>\n",
       "    <tr>\n",
       "      <th>43</th>\n",
       "      <td>0.657</td>\n",
       "      <td>0.893</td>\n",
       "      <td>7</td>\n",
       "      <td>-2.416</td>\n",
       "      <td>1</td>\n",
       "      <td>0.0739</td>\n",
       "      <td>0.06250</td>\n",
       "      <td>0.000000</td>\n",
       "      <td>0.0688</td>\n",
       "      <td>0.514</td>\n",
       "      <td>127.992</td>\n",
       "      <td>audio_features</td>\n",
       "      <td>1ueQDgg9WsjXF8NwJeLvUE</td>\n",
       "      <td>spotify:track:1ueQDgg9WsjXF8NwJeLvUE</td>\n",
       "      <td>https://api.spotify.com/v1/tracks/1ueQDgg9WsjX...</td>\n",
       "      <td>https://api.spotify.com/v1/audio-analysis/1ueQ...</td>\n",
       "      <td>198227</td>\n",
       "      <td>4</td>\n",
       "      <td>0</td>\n",
       "    </tr>\n",
       "    <tr>\n",
       "      <th>44</th>\n",
       "      <td>0.792</td>\n",
       "      <td>0.717</td>\n",
       "      <td>0</td>\n",
       "      <td>-4.759</td>\n",
       "      <td>0</td>\n",
       "      <td>0.0393</td>\n",
       "      <td>0.09270</td>\n",
       "      <td>0.000036</td>\n",
       "      <td>0.2260</td>\n",
       "      <td>0.466</td>\n",
       "      <td>121.985</td>\n",
       "      <td>audio_features</td>\n",
       "      <td>1A8j067qyiNwQnZT0bzUpZ</td>\n",
       "      <td>spotify:track:1A8j067qyiNwQnZT0bzUpZ</td>\n",
       "      <td>https://api.spotify.com/v1/tracks/1A8j067qyiNw...</td>\n",
       "      <td>https://api.spotify.com/v1/audio-analysis/1A8j...</td>\n",
       "      <td>195547</td>\n",
       "      <td>4</td>\n",
       "      <td>0</td>\n",
       "    </tr>\n",
       "    <tr>\n",
       "      <th>45</th>\n",
       "      <td>0.843</td>\n",
       "      <td>0.435</td>\n",
       "      <td>8</td>\n",
       "      <td>-8.442</td>\n",
       "      <td>1</td>\n",
       "      <td>0.1780</td>\n",
       "      <td>0.47000</td>\n",
       "      <td>0.000000</td>\n",
       "      <td>0.1470</td>\n",
       "      <td>0.190</td>\n",
       "      <td>120.058</td>\n",
       "      <td>audio_features</td>\n",
       "      <td>6GnhWMhgJb7uyiiPEiEkDA</td>\n",
       "      <td>spotify:track:6GnhWMhgJb7uyiiPEiEkDA</td>\n",
       "      <td>https://api.spotify.com/v1/tracks/6GnhWMhgJb7u...</td>\n",
       "      <td>https://api.spotify.com/v1/audio-analysis/6Gnh...</td>\n",
       "      <td>208080</td>\n",
       "      <td>4</td>\n",
       "      <td>0</td>\n",
       "    </tr>\n",
       "    <tr>\n",
       "      <th>46</th>\n",
       "      <td>0.884</td>\n",
       "      <td>0.653</td>\n",
       "      <td>11</td>\n",
       "      <td>-7.653</td>\n",
       "      <td>0</td>\n",
       "      <td>0.0586</td>\n",
       "      <td>0.37100</td>\n",
       "      <td>0.001350</td>\n",
       "      <td>0.8120</td>\n",
       "      <td>0.766</td>\n",
       "      <td>108.548</td>\n",
       "      <td>audio_features</td>\n",
       "      <td>2IFFKj9orAsQOOS0JRhHAW</td>\n",
       "      <td>spotify:track:2IFFKj9orAsQOOS0JRhHAW</td>\n",
       "      <td>https://api.spotify.com/v1/tracks/2IFFKj9orAsQ...</td>\n",
       "      <td>https://api.spotify.com/v1/audio-analysis/2IFF...</td>\n",
       "      <td>174213</td>\n",
       "      <td>4</td>\n",
       "      <td>0</td>\n",
       "    </tr>\n",
       "    <tr>\n",
       "      <th>47</th>\n",
       "      <td>0.785</td>\n",
       "      <td>0.626</td>\n",
       "      <td>4</td>\n",
       "      <td>-8.030</td>\n",
       "      <td>0</td>\n",
       "      <td>0.0675</td>\n",
       "      <td>0.15800</td>\n",
       "      <td>0.000005</td>\n",
       "      <td>0.1810</td>\n",
       "      <td>0.183</td>\n",
       "      <td>154.946</td>\n",
       "      <td>audio_features</td>\n",
       "      <td>4UEuIEv9Wc3wtiWUplGJ7q</td>\n",
       "      <td>spotify:track:4UEuIEv9Wc3wtiWUplGJ7q</td>\n",
       "      <td>https://api.spotify.com/v1/tracks/4UEuIEv9Wc3w...</td>\n",
       "      <td>https://api.spotify.com/v1/audio-analysis/4UEu...</td>\n",
       "      <td>193211</td>\n",
       "      <td>4</td>\n",
       "      <td>0</td>\n",
       "    </tr>\n",
       "  </tbody>\n",
       "</table>\n",
       "<p>93 rows × 19 columns</p>\n",
       "</div>"
      ],
      "text/plain": [
       "    danceability  energy  key  loudness  mode  speechiness  acousticness  \\\n",
       "0          0.438   0.805    8    -6.237     1       0.0624       0.00255   \n",
       "1          0.634   0.630    1    -8.277     0       0.0310       0.44700   \n",
       "2          0.382   0.497    4   -11.815     0       0.0328       0.11700   \n",
       "3          0.575   0.555    4    -7.495     1       0.0453       0.10300   \n",
       "4          0.599   0.704    8    -8.566     0       0.2430       0.71400   \n",
       "..           ...     ...  ...       ...   ...          ...           ...   \n",
       "43         0.657   0.893    7    -2.416     1       0.0739       0.06250   \n",
       "44         0.792   0.717    0    -4.759     0       0.0393       0.09270   \n",
       "45         0.843   0.435    8    -8.442     1       0.1780       0.47000   \n",
       "46         0.884   0.653   11    -7.653     0       0.0586       0.37100   \n",
       "47         0.785   0.626    4    -8.030     0       0.0675       0.15800   \n",
       "\n",
       "    instrumentalness  liveness  valence    tempo            type  \\\n",
       "0           0.000057    0.0842    0.564  113.253  audio_features   \n",
       "1           0.039000    0.1700    0.489  118.628  audio_features   \n",
       "2           0.233000    0.1100    0.391  117.446  audio_features   \n",
       "3           0.000001    0.1110    0.504   95.361  audio_features   \n",
       "4           0.000000    0.5210    0.950  173.043  audio_features   \n",
       "..               ...       ...      ...      ...             ...   \n",
       "43          0.000000    0.0688    0.514  127.992  audio_features   \n",
       "44          0.000036    0.2260    0.466  121.985  audio_features   \n",
       "45          0.000000    0.1470    0.190  120.058  audio_features   \n",
       "46          0.001350    0.8120    0.766  108.548  audio_features   \n",
       "47          0.000005    0.1810    0.183  154.946  audio_features   \n",
       "\n",
       "                        id                                   uri  \\\n",
       "0   2aoo2jlRnM3A0NyLQqMN2f  spotify:track:2aoo2jlRnM3A0NyLQqMN2f   \n",
       "1   6H3kDe7CGoWYBabAeVWGiD  spotify:track:6H3kDe7CGoWYBabAeVWGiD   \n",
       "2   4D3Twi99sdqxesC68XAPf5  spotify:track:4D3Twi99sdqxesC68XAPf5   \n",
       "3   4ZhPLoMzZwewHLLjV1J15c  spotify:track:4ZhPLoMzZwewHLLjV1J15c   \n",
       "4   3Q7LXyGZ3SLD0dLztx3j5x  spotify:track:3Q7LXyGZ3SLD0dLztx3j5x   \n",
       "..                     ...                                   ...   \n",
       "43  1ueQDgg9WsjXF8NwJeLvUE  spotify:track:1ueQDgg9WsjXF8NwJeLvUE   \n",
       "44  1A8j067qyiNwQnZT0bzUpZ  spotify:track:1A8j067qyiNwQnZT0bzUpZ   \n",
       "45  6GnhWMhgJb7uyiiPEiEkDA  spotify:track:6GnhWMhgJb7uyiiPEiEkDA   \n",
       "46  2IFFKj9orAsQOOS0JRhHAW  spotify:track:2IFFKj9orAsQOOS0JRhHAW   \n",
       "47  4UEuIEv9Wc3wtiWUplGJ7q  spotify:track:4UEuIEv9Wc3wtiWUplGJ7q   \n",
       "\n",
       "                                           track_href  \\\n",
       "0   https://api.spotify.com/v1/tracks/2aoo2jlRnM3A...   \n",
       "1   https://api.spotify.com/v1/tracks/6H3kDe7CGoWY...   \n",
       "2   https://api.spotify.com/v1/tracks/4D3Twi99sdqx...   \n",
       "3   https://api.spotify.com/v1/tracks/4ZhPLoMzZwew...   \n",
       "4   https://api.spotify.com/v1/tracks/3Q7LXyGZ3SLD...   \n",
       "..                                                ...   \n",
       "43  https://api.spotify.com/v1/tracks/1ueQDgg9WsjX...   \n",
       "44  https://api.spotify.com/v1/tracks/1A8j067qyiNw...   \n",
       "45  https://api.spotify.com/v1/tracks/6GnhWMhgJb7u...   \n",
       "46  https://api.spotify.com/v1/tracks/2IFFKj9orAsQ...   \n",
       "47  https://api.spotify.com/v1/tracks/4UEuIEv9Wc3w...   \n",
       "\n",
       "                                         analysis_url  duration_ms  \\\n",
       "0   https://api.spotify.com/v1/audio-analysis/2aoo...       240800   \n",
       "1   https://api.spotify.com/v1/audio-analysis/6H3k...       270773   \n",
       "2   https://api.spotify.com/v1/audio-analysis/4D3T...       224027   \n",
       "3   https://api.spotify.com/v1/audio-analysis/4ZhP...       232467   \n",
       "4   https://api.spotify.com/v1/audio-analysis/3Q7L...       120173   \n",
       "..                                                ...          ...   \n",
       "43  https://api.spotify.com/v1/audio-analysis/1ueQ...       198227   \n",
       "44  https://api.spotify.com/v1/audio-analysis/1A8j...       195547   \n",
       "45  https://api.spotify.com/v1/audio-analysis/6Gnh...       208080   \n",
       "46  https://api.spotify.com/v1/audio-analysis/2IFF...       174213   \n",
       "47  https://api.spotify.com/v1/audio-analysis/4UEu...       193211   \n",
       "\n",
       "    time_signature  class  \n",
       "0                4      1  \n",
       "1                4      1  \n",
       "2                4      1  \n",
       "3                4      1  \n",
       "4                4      1  \n",
       "..             ...    ...  \n",
       "43               4      0  \n",
       "44               4      0  \n",
       "45               4      0  \n",
       "46               4      0  \n",
       "47               4      0  \n",
       "\n",
       "[93 rows x 19 columns]"
      ]
     },
     "execution_count": 39,
     "metadata": {},
     "output_type": "execute_result"
    }
   ],
   "source": [
    "frames = [df,df2]\n",
    "df3 = pd.concat(frames)\n",
    "df3"
   ]
  },
  {
   "cell_type": "markdown",
   "metadata": {},
   "source": [
    "Using the bar chart titled \"Jorge's and Shubham's Playlist Comparison\" above we can see that the two columns with the highest difference are \"Danceability\" and \"Speechiness\" so we will use those columns to train our model."
   ]
  },
  {
   "cell_type": "code",
   "execution_count": 25,
   "metadata": {},
   "outputs": [
    {
     "data": {
      "text/plain": [
       "Text(0, 0.5, 'Speechiness')"
      ]
     },
     "execution_count": 25,
     "metadata": {},
     "output_type": "execute_result"
    },
    {
     "data": {
      "image/png": "[encoded data removed]",
      "text/plain": [
       "<Figure size 432x288 with 1 Axes>"
      ]
     },
     "metadata": {
      "needs_background": "light"
     },
     "output_type": "display_data"
    }
   ],
   "source": [
    "plt.scatter( df.danceability, df.speechiness, color='red',\n",
    "            alpha=1\n",
    ")\n",
    "plt.scatter( df2.danceability, df2.speechiness, color='blue',\n",
    "            alpha=1\n",
    ")\n",
    "plt.xlabel('Danceability')\n",
    "plt.ylabel('Speechiness')"
   ]
  },
  {
   "cell_type": "markdown",
   "metadata": {},
   "source": [
    "Using the features \"danceability\" and \"Speechiness\" we are able to see with the scatter plot that Shubham's music (red label) is grouped up on the bottom left for the most part and Jorge's music (blue label) is grouped on the upper right. It is not hard to see the clear separation in the two differnt playlists. From here we can build a K-Nearest Neighbors model to predict whether a song will fall under Jorge's or Shubham's playlist."
   ]
  },
  {
   "cell_type": "markdown",
   "metadata": {},
   "source": [
    "We will begin by splitting the data into a training and testing data sets."
   ]
  },
  {
   "cell_type": "code",
   "execution_count": 85,
   "metadata": {},
   "outputs": [],
   "source": [
    "x_train, x_test, y_train, y_test = train_test_split(\n",
    "    df3[['danceability','speechiness']], df3['class'], test_size=0.33, random_state=42)"
   ]
  },
  {
   "cell_type": "markdown",
   "metadata": {},
   "source": [
    "Once our data has been split we can train our model and fit it to our data. Once the model is trained we can pass in our testing data and see if our predictions are correct."
   ]
  },
  {
   "cell_type": "markdown",
   "metadata": {},
   "source": [
    "We decided that we wanted to test multiple values for K so we trained the model in a loop with varrying values for K. Each iteration tests a different number of neighbors  and records the accuracy to see if the number of neighbors affects the accuracy."
   ]
  },
  {
   "cell_type": "code",
   "execution_count": 86,
   "metadata": {},
   "outputs": [],
   "source": [
    "k_vals = [1,2,3,4,5,6,7,8,9,10]\n",
    "acc = []\n",
    "for k in k_vals:\n",
    "    pipeline = make_pipeline(StandardScaler(), KNeighborsClassifier(n_neighbors=k))\n",
    "    pipeline.fit(x_train,y_train)\n",
    "    pred_labels = pipeline.predict(x_test)\n",
    "    accuracy = sum(y_test == pred_labels)/len(y_test)\n",
    "    acc.append(accuracy)"
   ]
  },
  {
   "cell_type": "code",
   "execution_count": 87,
   "metadata": {},
   "outputs": [
    {
     "data": {
      "image/png": "[encoded data removed]",
      "text/plain": [
       "<Figure size 432x288 with 1 Axes>"
      ]
     },
     "metadata": {
      "needs_background": "light"
     },
     "output_type": "display_data"
    }
   ],
   "source": [
    "mean_list = []\n",
    "std_list = []\n",
    "for row in acc:\n",
    "    row = np.array(row)\n",
    "    mean_list.append(row.mean())\n",
    "    std_list.append(row.std())\n",
    "plt.errorbar(k_vals, mean_list, std_list)\n",
    "plt.xlabel('K-Value')\n",
    "plt.ylabel('Accuracy')\n",
    "plt.show()"
   ]
  },
  {
   "cell_type": "markdown",
   "metadata": {},
   "source": [
    "As can be seen from the chart above the highest accuracy we managed to achieve was about 87% and we were averaging an accuracy of about 80%. The lowest accuracy we achieved was about 67% which shows just how sensitive the 1-Nearest Neighbors model is to outliers. Perhaps we could increase accuracy by testing different features, but a better way would be to use a bigger dataset. "
   ]
  },
  {
   "cell_type": "code",
   "execution_count": null,
   "metadata": {},
   "outputs": [],
   "source": []
  }
 ],
 "metadata": {
  "kernelspec": {
   "display_name": "Python 3",
   "language": "python",
   "name": "python3"
  },
  "language_info": {
   "codemirror_mode": {
    "name": "ipython",
    "version": 3
   },
   "file_extension": ".py",
   "mimetype": "text/x-python",
   "name": "python",
   "nbconvert_exporter": "python",
   "pygments_lexer": "ipython3",
   "version": "3.8.5"
  }
 },
 "nbformat": 4,
 "nbformat_minor": 5
}
