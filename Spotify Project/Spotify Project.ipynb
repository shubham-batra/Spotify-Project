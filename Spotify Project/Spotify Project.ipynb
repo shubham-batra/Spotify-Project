{
 "cells": [
  {
   "cell_type": "markdown",
   "id": "5edf0115-22d9-4c36-bc87-f04cfaca302d",
   "metadata": {},
   "source": [
    "<font size = \"20\"> Spotify Music Analysis </font>\n",
    "\n",
    "In this project, we will attempt to analyze Spotify playlists to see how compatible two user's playlists are. We will also use content-based filtering to create a recommendation system. "
   ]
  },
  {
   "cell_type": "code",
   "execution_count": 107,
   "id": "0bc16860",
   "metadata": {},
   "outputs": [],
   "source": [
    "# All imports are listed here\n",
    "import requests\n",
    "import spotipy.util as util\n",
    "import spotipy\n",
    "import pandas as pd\n",
    "from spotipy.oauth2 import SpotifyClientCredentials\n",
    "from spotipy.oauth2 import SpotifyOAuth\n",
    "from json.decoder import JSONDecodeError"
   ]
  },
  {
   "cell_type": "markdown",
   "id": "86106a6a-a44e-4250-a10b-d1d0c2a83cf2",
   "metadata": {},
   "source": [
    "The first step in the process is to authenticate with the Spotify API and then import both of our playlists. The songs of both playlists are printed below"
   ]
  },
  {
   "cell_type": "code",
   "execution_count": 114,
   "id": "b0415cad",
   "metadata": {},
   "outputs": [],
   "source": [
    "# Authentication with Spotify API\n",
    "sp = spotipy.Spotify()\n",
    "cid =\"9eab3f44cb5f42bd9d144ff2e2ad767f\"\n",
    "secret = \"677567e07a1c4d9980adc0da6868b316\"\n",
    "client_credentials_manager = SpotifyClientCredentials(client_id=cid, client_secret=secret)\n",
    "sp = spotipy.Spotify(client_credentials_manager=client_credentials_manager)\n",
    "sp.trace=False # What is this?\n",
    "\n",
    "# This is Shubham's playlist\n",
    "playlist = sp.user_playlist(\"1232443238\", \"5XpKz5MtjD6Vxh8mN3fhK7\")\n",
    "songs = playlist[\"tracks\"][\"items\"]\n",
    "ids = []\n",
    "\n",
    "\n"
   ]
  },
  {
   "cell_type": "code",
   "execution_count": 109,
   "id": "f1affb1e-2af5-460e-aa31-c3a734770245",
   "metadata": {},
   "outputs": [
    {
     "name": "stdout",
     "output_type": "stream",
     "text": [
      "Playlist Name: Epic Songs (Shubhams' Playlist)\n",
      "Total Tracks: 45\n"
     ]
    }
   ],
   "source": [
    "# Printing out playlist name and total tracks\n",
    "print('Playlist Name:', playlist['name'], '(Shubhams\\' Playlist)')\n",
    "print('Total Tracks:', playlist['tracks']['total'])\n",
    "\n",
    "# Obtain tracks from Shubham's playlist\n",
    "results = sp.user_playlist(\"1232443238\", playlist['id'], fields=\"tracks,next\")\n",
    "tracks = results['tracks']\n",
    "\n",
    "# Print out all tracks from Shubham's playlist using a counter\n",
    "counter = 1\n",
    "for i in results['tracks']['items']:\n",
    "    #print(counter, i['track']['artists'][0]['name'] + ' - ' + i['track']['name'])\n",
    "    counter = counter + 1"
   ]
  },
  {
   "cell_type": "markdown",
   "id": "52ea07c7-ef66-4ea4-9b90-e53ad605b500",
   "metadata": {},
   "source": [
    "For the next step, we want to find out what the feature values are for each song in every playlist. Before the values are manipluated, for both playlists we will first normalize all of the numerical values and then find the average value for the entire playlist"
   ]
  },
  {
   "cell_type": "code",
   "execution_count": 118,
   "id": "6deee76a-d924-4945-bb66-02f6e7455c8a",
   "metadata": {},
   "outputs": [],
   "source": [
    "# Prints out all feature values in my playlist\n",
    "for i in range(len(songs)):\n",
    "    ids.append(songs[i][\"track\"][\"id\"])\n",
    "features = sp.audio_features(ids)\n",
    "\n",
    "# Converting to dataframe and print\n",
    "df = pd.DataFrame(features)\n",
    "#df\n"
   ]
  },
  {
   "cell_type": "code",
   "execution_count": 121,
   "id": "419724aa-67aa-4a3e-aef9-8743dd30ad7d",
   "metadata": {},
   "outputs": [],
   "source": [
    "# Normalizing step for the 13 numeric columns? (Shubham's playlist)\n",
    "norm = df.copy()\n",
    "music1mean = []\n",
    "for col in df:\n",
    "    if (df[col].dtype != 'object'):\n",
    "        norm[col] = norm[col] /norm[col].abs().max()\n",
    "        music1mean.append(norm[col].mean())\n",
    "        \n",
    "#music1mean\n"
   ]
  },
  {
   "cell_type": "code",
   "execution_count": null,
   "id": "a6b7b0eb-079e-4d76-abd4-550a6f3cbaa2",
   "metadata": {},
   "outputs": [],
   "source": []
  }
 ],
 "metadata": {
  "kernelspec": {
   "display_name": "Python 3 (ipykernel)",
   "language": "python",
   "name": "python3"
  },
  "language_info": {
   "codemirror_mode": {
    "name": "ipython",
    "version": 3
   },
   "file_extension": ".py",
   "mimetype": "text/x-python",
   "name": "python",
   "nbconvert_exporter": "python",
   "pygments_lexer": "ipython3",
   "version": "3.9.2"
  }
 },
 "nbformat": 4,
 "nbformat_minor": 5
}
