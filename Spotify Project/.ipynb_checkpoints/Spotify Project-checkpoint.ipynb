{
 "cells": [
  {
   "cell_type": "markdown",
   "metadata": {},
   "source": [
    "<font size = \"20\"> Spotify Music Analysis </font>\n",
    "\n",
    "In this project, we will attempt to analyze Spotify playlists to see how compatible two user's playlists are. We will also use content-based filtering to create a recommendation system. "
   ]
  },
  {
   "cell_type": "code",
   "execution_count": 1,
   "metadata": {},
   "outputs": [],
   "source": [
    "# All imports are listed here\n",
    "import requests\n",
    "import spotipy.util as util\n",
    "import spotipy\n",
    "import pandas as pd\n",
    "import matplotlib.pyplot\n",
    "from spotipy.oauth2 import SpotifyClientCredentials\n",
    "from spotipy.oauth2 import SpotifyOAuth\n",
    "from json.decoder import JSONDecodeError"
   ]
  },
  {
   "cell_type": "markdown",
   "metadata": {},
   "source": [
    "The first step in the process is to authenticate with the Spotify API and then import both of our playlists. The songs of both playlists are printed below"
   ]
  },
  {
   "cell_type": "code",
   "execution_count": 2,
   "metadata": {},
   "outputs": [],
   "source": [
    "# Authentication with Spotify API\n",
    "sp = spotipy.Spotify()\n",
    "cid =\"9eab3f44cb5f42bd9d144ff2e2ad767f\"\n",
    "secret = \"677567e07a1c4d9980adc0da6868b316\"\n",
    "client_credentials_manager = SpotifyClientCredentials(client_id=cid, client_secret=secret)\n",
    "sp = spotipy.Spotify(client_credentials_manager=client_credentials_manager)\n",
    "sp.trace=False # What is this?\n",
    "\n",
    "# This is Shubham's playlist\n",
    "playlist = sp.user_playlist(\"1232443238\", \"5XpKz5MtjD6Vxh8mN3fhK7\")\n",
    "songs = playlist[\"tracks\"][\"items\"]\n",
    "ids = []\n",
    "\n",
    "# This is Jorge's playlist\n",
    "playlist2 = sp.user_playlist('jorgevicencio87', '1lbwjOlw40jDMvgmpbUlxL')\n",
    "songs2 = playlist2[\"tracks\"][\"items\"]\n",
    "ids2 = []\n",
    "\n"
   ]
  },
  {
   "cell_type": "code",
   "execution_count": 3,
   "metadata": {},
   "outputs": [
    {
     "name": "stdout",
     "output_type": "stream",
     "text": [
      "Playlist Name: Epic Songs (Shubhams Playlist)\n",
      "Total Tracks: 45\n",
      "1 Jimi Hendrix - All Along the Watchtower\n",
      "2 The Rolling Stones - Gimme Shelter\n",
      "3 Ten Years After - I'd Love To Change The World\n",
      "4 Nena - 99 Luftballons\n",
      "5 Ray Charles - Hit the Road Jack\n",
      "6 The Mamas & The Papas - California Dreamin'\n",
      "7 The Cars - Just What I Needed\n",
      "8 Neil Young - Heart of Gold - 2009 Remaster\n",
      "9 Kyu Sakamoto - Sukiyaki\n",
      "10 Bob Dylan - Don't Think Twice, It's All Right\n",
      "11 The Beatles - While My Guitar Gently Weeps - Remastered 2009\n",
      "12 Massive Attack - Paradise Circus\n",
      "13 Fleetwood Mac - The Chain - 2004 Remaster\n",
      "14 Guns N' Roses - Sweet Child O' Mine\n",
      "15 Men At Work - Down Under\n",
      "16 New Order - Bizarre Love Triangle\n",
      "17 The Cranberries - Zombie\n",
      "18 Brigitte Bardot - Bonnie And Clyde\n",
      "19 Johnny Cash - Hurt\n",
      "20 Led Zeppelin - Stairway to Heaven - Remaster\n",
      "21 Mary Hopkin - Those Were The Days - Remastered\n",
      "22 Lynyrd Skynyrd - Free Bird\n",
      "23 Derek & The Dominos - Layla\n",
      "24 Mazzy Star - Fade Into You\n",
      "25 Gorillaz - Feel Good Inc.\n",
      "26 Tom Petty and the Heartbreakers - Refugee\n",
      "27 Canozan - Sen Kocaman Çöllerde\n",
      "28 Meg Mac - Grace Gold\n",
      "29 julia clara - still dancing\n",
      "30 Nusrat Fateh Ali Khan - Mere Rashke Qamar\n",
      "31 Don Cherry - Band of Gold (with Ray Conniff & His Orchestra & Chorus)\n",
      "32 Edward Maya - Harem\n",
      "33 Empire of the Sun - DNA\n",
      "34 Men I Trust - Tailwhip\n",
      "35 Madonna - Like a Prayer\n",
      "36 Kim Wilde - Kids In America\n",
      "37 Radiohead - Karma Police\n",
      "38 The Smashing Pumpkins - 1979 - Remastered 2012\n",
      "39 ROSALÍA - DI MI NOMBRE - Cap.8: Éxtasis\n",
      "40 KT Tunstall - Suddenly I See\n",
      "41 Purity Ring - peacefall\n",
      "42 The Beatles - Eleanor Rigby - Remastered 2009\n",
      "43 Regina Spektor - Après Moi\n",
      "44 The Monkees - (I'm Not Your) Steppin' Stone - 2006 Remaster\n",
      "45 The Fly Bi Nights - Found Love\n",
      "\n",
      "Playlist Name: playlist 3 (Jorges Playlist)\n",
      "Total Tracks: 45\n",
      "1 Bad Bunny - De Museo\n",
      "2 Nio Garcia - AM Remix\n",
      "3 Bad Bunny - Yonaguni\n",
      "4 Yandel - Explícale\n",
      "5 The Weeknd - Save Your Tears\n",
      "6 Mac Miller - Surf\n",
      "7 Bruno Mars - Leave The Door Open\n",
      "8 Pop Smoke - The Woo (feat. 50 Cent & Roddy Ricch)\n",
      "9 Mac Miller - Kool Aid & Frozen Pizza\n",
      "10 Bad Bunny - EL MUNDO ES MÍO\n",
      "11 Bad Bunny - Me Mata\n",
      "12 Pop Smoke - Hello (feat. A Boogie Wit da Hoodie)\n",
      "13 Anuel AA - Amanece\n",
      "14 Anuel AA - Hasta Que Dios Diga\n",
      "15 Simplified - Wake 'N Bake\n",
      "16 The Strokes - Hard To Explain\n",
      "17 Rick Ross - Aston Martin Music\n",
      "18 Drake - Shot For Me\n",
      "19 The Weeknd - Snowchild\n",
      "20 Mustard - Ballin' (with Roddy Ricch)\n",
      "21 Nio Garcia - La Jeepeta - Remix\n",
      "22 Rage Against The Machine - Bombtrack\n",
      "23 Farruko - La Cartera\n",
      "24 DaBaby - ROCKSTAR (feat. Roddy Ricch)\n",
      "25 Bad Bunny - Callaita\n",
      "26 Jhay Cortez - CÓMO SE SIENTE - Remix\n",
      "27 Lil Mosey - Blueberry Faygo\n",
      "28 J Balvin - Rojo\n",
      "29 Bad Bunny - Está Cabrón Ser Yo\n",
      "30 Bad Bunny - Una Vez\n",
      "31 Bad Bunny - Soliá\n",
      "32 Bad Bunny - Pero Ya No\n",
      "33 Calvin Harris - Slide (feat. Frank Ocean & Migos)\n",
      "34 Ozuna - Solita\n",
      "35 Papa Roach - ...To Be Loved\n",
      "36 The Weeknd - Heartless\n",
      "37 The Weeknd - Blinding Lights\n",
      "38 Paulo Londra - Tal Vez\n",
      "39 Anuel AA - Ella Quiere Beber - Remix\n",
      "40 Iration - Broken Promises\n",
      "41 Kendrick Lamar - The Recipe - Bonus Track\n",
      "42 Gorillaz - On Melancholy Hill\n",
      "43 Alina Baraz - Electric (R3hab Remix)\n",
      "44 Cash Cash - Broken Drum (feat. Fitz of Fitz and the Tantrums)\n",
      "45 Kungs - This Girl (Kungs Vs. Cookin' On 3 Burners)\n"
     ]
    }
   ],
   "source": [
    "# Printing out playlist name and total tracks\n",
    "print('Playlist Name:', playlist['name'], '(Shubhams Playlist)')\n",
    "print('Total Tracks:', playlist['tracks']['total'])\n",
    "\n",
    "# Obtain tracks from Shubham's playlist\n",
    "results = sp.user_playlist(\"1232443238\", playlist['id'], fields=\"tracks,next\")\n",
    "tracks = results['tracks']\n",
    "\n",
    "# Print out all tracks from Shubham's playlist using a counter\n",
    "counter = 1\n",
    "for i in results['tracks']['items']:\n",
    "    print(counter, i['track']['artists'][0]['name'] + ' - ' + i['track']['name'])\n",
    "    counter = counter + 1\n",
    "print('')\n",
    "# Print out Jorge's playlist name and total tracks   \n",
    "print('Playlist Name:', playlist2['name'], '(Jorges Playlist)')\n",
    "print('Total Tracks:', playlist2['tracks']['total'])\n",
    "\n",
    "\n",
    "# Obtain tracks from Jorge's playlist\n",
    "results = sp.user_playlist(\"jorgevicencio87\", playlist2['id'], fields=\"tracks,next\")\n",
    "tracks = results['tracks']\n",
    "\n",
    "# Print out all tracks from Jorge's playlist using a counter\n",
    "counter = 1\n",
    "for i in results['tracks']['items']:\n",
    "    print(counter, i['track']['artists'][0]['name'] + ' - ' + i['track']['name'])\n",
    "    counter = counter + 1\n",
    "\n",
    "\n"
   ]
  },
  {
   "cell_type": "markdown",
   "metadata": {},
   "source": [
    "For the next step, we want to find out what the feature values are for each song in every playlist. Before the values are manipluated, for both playlists we will first normalize all of the numerical values and then find the average value for the entire playlist"
   ]
  },
  {
   "cell_type": "code",
   "execution_count": 4,
   "metadata": {},
   "outputs": [],
   "source": [
    "# Prints out all feature values in Shubham's Playlist\n",
    "for i in range(len(songs)):\n",
    "    ids.append(songs[i][\"track\"][\"id\"])\n",
    "features = sp.audio_features(ids)\n",
    "\n",
    "# Print out all feature Playlists in Jorge's Playlist\n",
    "for i in range(len(songs2)):\n",
    "    ids2.append(songs2[i][\"track\"][\"id\"])\n",
    "features2 = sp.audio_features(ids2)\n",
    "\n",
    "# Converting to dataframe and print\n",
    "df = pd.DataFrame(features)\n",
    "df2 = pd.DataFrame(features2)"
   ]
  },
  {
   "cell_type": "code",
   "execution_count": 5,
   "metadata": {},
   "outputs": [
    {
     "data": {
      "text/plain": [
       "[[0.6447161097527845, 'danceability'],\n",
       " [0.6563350785340313, 'energy'],\n",
       " [0.5010101010101009, 'key'],\n",
       " [-0.4888329593860761, 'loudness'],\n",
       " [0.5111111111111111, 'mode'],\n",
       " [0.22649291266575225, 'speechiness'],\n",
       " [0.3173055555555556, 'acousticness'],\n",
       " [0.1275048436068577, 'instrumentalness'],\n",
       " [0.2705600870038064, 'liveness'],\n",
       " [0.5325726141078838, 'valence'],\n",
       " [0.6840859832564179, 'tempo'],\n",
       " [0.4553031775421547, 'duration_ms'],\n",
       " [0.9833333333333333, 'time_signature']]"
      ]
     },
     "execution_count": 5,
     "metadata": {},
     "output_type": "execute_result"
    }
   ],
   "source": [
    "# Normalizing step for the 13 numeric columns? (Shubham's playlist)\n",
    "norm = df.copy()\n",
    "music1mean = []\n",
    "for col in df:\n",
    "    if (df[col].dtype != 'object'):\n",
    "        norm[col] = norm[col] /norm[col].abs().max()\n",
    "        music1mean.append([norm[col].mean(),col])\n",
    "        \n",
    "\n",
    "# Normalizing step for Jorge's Playlist \n",
    "norm = df2.copy()\n",
    "music2mean = []\n",
    "for col in df2:\n",
    "    if (df[col].dtype != 'object'):\n",
    "        norm[col] = norm[col] /norm[col].abs().max()\n",
    "        music2mean.append([norm[col].mean(),col])\n",
    "music1mean"
   ]
  },
  {
   "cell_type": "code",
   "execution_count": 6,
   "metadata": {},
   "outputs": [
    {
     "data": {
      "text/plain": [
       "[[0.7657949662369552, 'danceability'],\n",
       " [0.6872756191774596, 'energy'],\n",
       " [0.49696969696969695, 'key'],\n",
       " [-0.4618688028300762, 'loudness'],\n",
       " [0.6, 'mode'],\n",
       " [0.35835311039194534, 'speechiness'],\n",
       " [0.23009074860005893, 'acousticness'],\n",
       " [0.037254189739623626, 'instrumentalness'],\n",
       " [0.2911699000587889, 'liveness'],\n",
       " [0.5697037870266217, 'valence'],\n",
       " [0.7143466832637774, 'tempo'],\n",
       " [0.5523650882895926, 'duration_ms'],\n",
       " [1.0, 'time_signature']]"
      ]
     },
     "execution_count": 6,
     "metadata": {},
     "output_type": "execute_result"
    }
   ],
   "source": [
    "music2mean"
   ]
  },
  {
   "cell_type": "markdown",
   "metadata": {},
   "source": [
    "Here, we will find the difference between each of the feature values and then graph it"
   ]
  },
  {
   "cell_type": "code",
   "execution_count": 17,
   "metadata": {},
   "outputs": [
    {
     "data": {
      "text/plain": [
       "Text(0.5, 0, 'Feature')"
      ]
     },
     "execution_count": 17,
     "metadata": {},
     "output_type": "execute_result"
    },
    {
     "data": {
      "image/png": "[encoded data removed]",
      "text/plain": [
       "<Figure size 432x288 with 1 Axes>"
      ]
     },
     "metadata": {
      "needs_background": "light"
     },
     "output_type": "display_data"
    }
   ],
   "source": [
    "# First, need to convert lists to dataframe\n",
    "columns = []\n",
    "pl_data1 = []\n",
    "pl_data2 = []\n",
    "for tup in music1mean:\n",
    "    pl_data1.append(tup[0])\n",
    "    columns.append(tup[1])\n",
    "for tup in music2mean:\n",
    "    pl_data2.append(tup[0])\n",
    "    \n",
    "    \n",
    "df = pd.DataFrame(pl_data1, columns=['Mean'])\n",
    "df2 = pd.DataFrame(pl_data2, columns=['Mean'])\n",
    "df3 = df2-df\n",
    "df3 = df3.abs()\n",
    "# Next, ned to graph\n",
    "chart = df3.plot.bar()\n",
    "chart.set_xticklabels(columns)\n",
    "chart.set_title('Jorge\\'s and Shubham\\'s Playlist Comparison')\n",
    "chart.set_ylabel('Average Feature Score')\n",
    "chart.set_xlabel('Feature')"
   ]
  },
  {
   "cell_type": "markdown",
   "metadata": {},
   "source": [
    "In the chart above the closer a value is to zero the more similar they are. As can be seen here our music taste from the sample playlist is quite differnt. However, if we examine the chart further we can see that we like music in a similar key, and we also like music with a similar length, liveness, and tempo. Every other column seems to have a big difference."
   ]
  },
  {
   "cell_type": "code",
   "execution_count": null,
   "metadata": {},
   "outputs": [],
   "source": [
    "sp.recommendations(['4q3ewBCX7sLwd24euuV69X'])\n",
    "# https://open.spotify.com/track/2IFFKj9orAsQOOS0JRhHAW?si=eaa022bd9ced486f\n",
    "# https://open.spotify.com/artist/4q3ewBCX7sLwd24euuV69X?si=-9CLY7ReS1GJSvqXs4L-wg&dl_branch=1"
   ]
  },
  {
   "cell_type": "code",
   "execution_count": null,
   "metadata": {},
   "outputs": [],
   "source": []
  }
 ],
 "metadata": {
  "kernelspec": {
   "display_name": "Python 3",
   "language": "python",
   "name": "python3"
  },
  "language_info": {
   "codemirror_mode": {
    "name": "ipython",
    "version": 3
   },
   "file_extension": ".py",
   "mimetype": "text/x-python",
   "name": "python",
   "nbconvert_exporter": "python",
   "pygments_lexer": "ipython3",
   "version": "3.8.5"
  }
 },
 "nbformat": 4,
 "nbformat_minor": 5
}
